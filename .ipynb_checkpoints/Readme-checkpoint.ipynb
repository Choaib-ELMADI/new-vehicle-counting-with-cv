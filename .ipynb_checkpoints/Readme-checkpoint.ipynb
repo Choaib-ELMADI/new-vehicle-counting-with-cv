{
 "cells": [
  {
   "cell_type": "markdown",
   "metadata": {},
   "source": [
    "# 1. Vehicle Counting Repository Setup Guide\n",
    "This notebook provides step-by-step instructions to set up and run the vehicle counting application on three different platforms: Google Colab, Jupyter Notebooks, and via Bash/Linux commands.\n",
    "## 1.1. Google Colab\n",
    "Follow these steps to set up and run the application in Google Colab."
   ]
  },
  {
   "cell_type": "markdown",
   "metadata": {},
   "source": [
    "### Step 1: Install NumPy\n",
    "Run the following cell to install NumPy version 1.24.4."
   ]
  },
  {
   "cell_type": "code",
   "execution_count": null,
   "metadata": {},
   "outputs": [],
   "source": [
    "!pip install numpy==1.24.4"
   ]
  },
  {
   "cell_type": "markdown",
   "metadata": {},
   "source": [
    "If you see a message like the following, click **RESTART SESSION** and then re-run the previous and upcoming cells.\r\n",
    "\r\n",
    "![Restart Session 1](pictures/restart_session1.png)\r\n",
    "![Restart Session 2](pictures/restart_session2.png)\r\n"
   ]
  },
  {
   "cell_type": "markdown",
   "metadata": {},
   "source": [
    "### Step 2: Verify NumPy Installation\n",
    "Run the following cell to ensure NumPy version 1.24.4 is installed."
   ]
  },
  {
   "cell_type": "code",
   "execution_count": null,
   "metadata": {},
   "outputs": [],
   "source": [
    "import numpy as np\n",
    "print(\"NumPy Version:\", np.__version__)"
   ]
  },
  {
   "cell_type": "markdown",
   "metadata": {},
   "source": [
    "### Step 3: Clone Repository and Install Dependencies\n",
    "Run the following cell to upgrade pip, setuptools, and wheel, clone the repository and install dependencies and finally ."
   ]
  },
  {
   "cell_type": "code",
   "execution_count": null,
   "metadata": {},
   "outputs": [],
   "source": [
    "!pip install --upgrade pip setuptools wheel\n",
    "!git clone https://github.com/hamzaelouiaazzani/vehicle_counting_CV.git  # clone repo\n",
    "!pip install -e .\n",
    "import torch\n",
    "from IPython.display import Image, clear_output  # to display images\n",
    "\n",
    "clear_output()\n",
    "print(f\"Setup complete. Using torch {torch.__version__} ({torch.cuda.get_device_properties(0).name if torch.cuda.is_available() else 'CPU'})\")"
   ]
  },
  {
   "cell_type": "markdown",
   "metadata": {},
   "source": [
    "### Step 4: Run counting: "
   ]
  },
  {
   "cell_type": "markdown",
   "metadata": {},
   "source": [
    "Import counting files:"
   ]
  },
  {
   "cell_type": "code",
   "execution_count": null,
   "metadata": {},
   "outputs": [],
   "source": [
    "from counting.run_count import run\n",
    "from counting.count import args"
   ]
  },
  {
   "cell_type": "markdown",
   "metadata": {},
   "source": [
    "To print the documentation about the arguments:"
   ]
  },
  {
   "cell_type": "code",
   "execution_count": null,
   "metadata": {},
   "outputs": [],
   "source": [
    "print(args.__doc__)"
   ]
  },
  {
   "cell_type": "markdown",
   "metadata": {},
   "source": [
    "Change the arguments as you want:"
   ]
  },
  {
   "cell_type": "code",
   "execution_count": null,
   "metadata": {},
   "outputs": [],
   "source": [
    "args.source = \"kech.mp4\"\n",
    "args.name = \"kech\"\n",
    "args.verbose = True\n",
    "args.save_csv_count = True"
   ]
  },
  {
   "cell_type": "markdown",
   "metadata": {
    "jp-MarkdownHeadingCollapsed": true
   },
   "source": [
    "Run the counting process:"
   ]
  },
  {
   "cell_type": "code",
   "execution_count": null,
   "metadata": {},
   "outputs": [],
   "source": [
    "counter_yolo , profilers , results  = run(args)"
   ]
  },
  {
   "cell_type": "markdown",
   "metadata": {},
   "source": [
    "if you prompt args.save to **True** please check the results saved in folder **\\runs\\count** that is going to be created."
   ]
  },
  {
   "cell_type": "markdown",
   "metadata": {},
   "source": [
    "- counter_yolo object is the object that stores everything about the detector, the tracking and the counting used algorithms.\n",
    "- profilers: contains the time taken by each phase of the pipeline for the given video: **Pre-processing----> Detection----> Post-processing----> Tracking----> Counting**.\n",
    "- results: contains the results of detection and tracking of diffrents objects of the video."
   ]
  },
  {
   "cell_type": "markdown",
   "metadata": {},
   "source": [
    "Extract informations:"
   ]
  },
  {
   "cell_type": "code",
   "execution_count": null,
   "metadata": {},
   "outputs": [],
   "source": [
    "# video attribues:\n",
    "counter_yolo.video_attributes"
   ]
  },
  {
   "cell_type": "code",
   "execution_count": null,
   "metadata": {},
   "outputs": [],
   "source": [
    "# Counting Results\n",
    "print(f\"The number of vehicles counted by the algorithm is: {counter_yolo.counter}\")\n",
    "print(f\"The number of vehicles per type counted by the algorithm is: {counter_yolo.count_per_class}\")"
   ]
  },
  {
   "cell_type": "markdown",
   "metadata": {},
   "source": [
    "## 1.2. Jupyter Notebooks\n",
    "Follow these steps to set up and run the application in Jupyter Notebooks."
   ]
  },
  {
   "cell_type": "markdown",
   "metadata": {},
   "source": [
    "### Step 1: Create Virtual Environment (Bash/Anaconda Prompt)\n",
    "Open a Bash or Anaconda Prompt and run the following commands to create and activate a virtual environment named `vehicle_counter`:\n",
    "```bash\n",
    "conda create --name vehicle_counter python=3.8\n",
    "conda activate vehicle_counter\n",
    "```"
   ]
  },
  {
   "cell_type": "markdown",
   "metadata": {},
   "source": [
    "> **Note:** You can neglect the above two instructions if you don't want working in a virtual envirenement."
   ]
  },
  {
   "cell_type": "markdown",
   "metadata": {},
   "source": [
    "### Step 2: Upgrade pip and Install Dependencies\n",
    "Download/clone the repository and run the following cell to upgrade pip, setuptools, and wheel, and install the repository dependencies."
   ]
  },
  {
   "cell_type": "code",
   "execution_count": null,
   "metadata": {},
   "outputs": [],
   "source": [
    "!pip install --upgrade pip setuptools wheel\n",
    "!pip install -e ."
   ]
  },
  {
   "cell_type": "markdown",
   "metadata": {},
   "source": [
    "> **Note:** Once you run this cell, comment it out and do not run it again because the packages are already installed in the environment."
   ]
  },
  {
   "cell_type": "markdown",
   "metadata": {},
   "source": [
    "### Step 3: Verify Torch Installation\n",
    "Run the following cell to verify the installation of PyTorch and check if CUDA is available."
   ]
  },
  {
   "cell_type": "code",
   "execution_count": null,
   "metadata": {},
   "outputs": [],
   "source": [
    "import torch\n",
    "if torch.cuda.is_available():\n",
    "    torch.cuda.get_device_properties(0).name\n",
    "torch.cuda.is_available()"
   ]
  },
  {
   "cell_type": "markdown",
   "metadata": {},
   "source": [
    "### Step 4: Clear Output and Confirm Setup\n",
    "Run the following cell to clear the output and confirm the setup."
   ]
  },
  {
   "cell_type": "code",
   "execution_count": null,
   "metadata": {},
   "outputs": [],
   "source": [
    "from IPython.display import Image, clear_output  # to display images\n",
    "\n",
    "clear_output()\n",
    "print(f\"Setup complete. Using torch {torch.__version__} ({torch.cuda.get_device_properties(0).name if torch.cuda.is_available() else 'CPU'})\")"
   ]
  },
  {
   "cell_type": "markdown",
   "metadata": {},
   "source": [
    "### Step 5: Run counting"
   ]
  },
  {
   "cell_type": "markdown",
   "metadata": {},
   "source": [
    "Import counting files:"
   ]
  },
  {
   "cell_type": "code",
   "execution_count": 1,
   "metadata": {},
   "outputs": [],
   "source": [
    "from counting.run_count import run\n",
    "from counting.count import args"
   ]
  },
  {
   "cell_type": "markdown",
   "metadata": {},
   "source": [
    "To print the documentation about the arguments:"
   ]
  },
  {
   "cell_type": "code",
   "execution_count": 8,
   "metadata": {},
   "outputs": [],
   "source": [
    "print(args.__doc__)"
   ]
  },
  {
   "cell_type": "markdown",
   "metadata": {},
   "source": [
    "Change the arguments as you want:"
   ]
  },
  {
   "cell_type": "code",
   "execution_count": 3,
   "metadata": {},
   "outputs": [],
   "source": [
    "args.source = \"kech.mp4\"\n",
    "args.name = \"kech\"\n",
    "args.verbose = True\n",
    "args.save_csv_count = True"
   ]
  },
  {
   "cell_type": "markdown",
   "metadata": {
    "jp-MarkdownHeadingCollapsed": true
   },
   "source": [
    "Run the counting process:"
   ]
  },
  {
   "cell_type": "code",
   "execution_count": null,
   "metadata": {},
   "outputs": [],
   "source": [
    "# Run the counting algorithm\n",
    "counter_yolo , profilers , results  = run(args)"
   ]
  },
  {
   "cell_type": "markdown",
   "metadata": {},
   "source": [
    "if you prompt args.save to **True** please check the results saved in folder **\\runs\\count** that is going to be created."
   ]
  },
  {
   "cell_type": "markdown",
   "metadata": {},
   "source": [
    "- counter_yolo: This object stores all information about the detector, tracking, and counting algorithms used.\n",
    "- profilers: This object contains the time taken by each phase of the pipeline for the given video: **Pre-processing----> Detection----> Post-processing----> Tracking----> Counting**.\n",
    "- results: This object contains the results of detection and tracking for different objects in the video."
   ]
  },
  {
   "cell_type": "markdown",
   "metadata": {},
   "source": [
    "Extract informations:"
   ]
  },
  {
   "cell_type": "code",
   "execution_count": null,
   "metadata": {},
   "outputs": [],
   "source": [
    "# video attribues:\n",
    "counter_yolo.video_attributes"
   ]
  },
  {
   "cell_type": "code",
   "execution_count": null,
   "metadata": {},
   "outputs": [],
   "source": [
    "# Counting Results\n",
    "print(f\"The number of vehicles counted by the algorithm is: {counter_yolo.counter}\")\n",
    "print(f\"The number of vehicles per type counted by the algorithm is: {counter_yolo.count_per_class}\")"
   ]
  },
  {
   "cell_type": "markdown",
   "metadata": {},
   "source": [
    "## 1.3. Bash/Linux Commands\n",
    "Follow these steps to set up and run the application via Bash/Linux commands."
   ]
  },
  {
   "cell_type": "markdown",
   "metadata": {},
   "source": [
    "### Step 1: Create Virtual Environment\n",
    "Open a terminal and run the following commands to create and activate a virtual environment named `vehicle_counter`:\n",
    "```bash\n",
    "python -m venv vehicle_counter\n",
    "source vehicle_counter/bin/activate\n",
    "```"
   ]
  },
  {
   "cell_type": "markdown",
   "metadata": {},
   "source": [
    "### Step 2: Upgrade pip and Install Dependencies\n",
    "Run the following commands to upgrade pip, setuptools, and wheel, and install the repository dependencies:\n",
    "```bash\n",
    "pip install --upgrade pip setuptools wheel\n",
    "git clone https://github.com/hamzaelouiaazzani/vehicle_counting_CV.git  # clone repo\n",
    "pip install -e .\n",
    "```"
   ]
  },
  {
   "cell_type": "markdown",
   "metadata": {},
   "source": [
    "### Step 3: Verify Torch Installation\n",
    "Run the following commands to verify the installation of PyTorch and check if CUDA is available:\n",
    "```bash\n",
    "python -c \"import torch; print(f'Setup complete. Using torch {torch.__version__} ({torch.cuda.get_device_properties(0).name if torch.cuda.is_available() else 'CPU'})')\"\n",
    "```"
   ]
  },
  {
   "cell_type": "markdown",
   "metadata": {},
   "source": [
    "### Step 4: Run counting: \n",
    "Kindly before running the following counting script be sure you prompt your chosen **args** configuration within the demo.py file (remember you can edit your configuration as you want):\n",
    "```bash\n",
    "python3 counting/demo.py\n",
    "```\n",
    "If you prompt args.save to **True** please check the results saved in folder **\\runs\\count** that is going to be created."
   ]
  },
  {
   "cell_type": "markdown",
   "metadata": {},
   "source": [
    "# 2. Configuring Your Arguments for Optimal Counting Performance\r\n",
    "\r\n",
    "This repository offers a wide range of configurable features to tailor the counting process to your specific use-case. You can customize the algorithm with various arguments, select your preferred detector, tracker, or counting approach, and flexibly set the counting lines using percentages. Additionally, you can apply spatial masks to focus on specific areas of your video frames and more.\r\n",
    "\r\n",
    "To explore and understand these configurable arguments in detail, please execute the following commnd:\r\n"
   ]
  },
  {
   "cell_type": "code",
   "execution_count": 5,
   "metadata": {},
   "outputs": [
    {
     "name": "stdout",
     "output_type": "stream",
     "text": [
      "\n",
      "    This class contains configuration parameters for the vehicle counting system using the YOLO model and various tracking approaches.\n",
      "\n",
      "    Attributes:\n",
      "        source (str): Filename of the video to perform counting on.\n",
      "                      Need to be set.\n",
      "        name (str): Name of the folder for the current experiment results.\n",
      "                    Need to be set.\n",
      "        yolo_model (Path): Path to the YOLO model file.\n",
      "                           Default is 'yolov8n.pt'.\n",
      "        reid_model (Path): Path to the re-identification model file used if the tracker employs appearance description of objects.\n",
      "                           Examples include 'osnet_x0_25_market1501.pt', 'mobilenetv2_x1_4_msmt17.engine', etc.\n",
      "        tracking_method (str): Method used for tracking. Options include 'bytetrack', 'botsort', 'strongsort', 'ocsort', 'deepocsort', and 'hybridsort'.\n",
      "        imgsz (list): Input size of the frames.\n",
      "                      Default is [640].\n",
      "        conf (float): Confidence threshold for detection.\n",
      "                      Default is 0.6.\n",
      "        iou (float): Intersection over Union (IoU) threshold.\n",
      "                     Default is 0.7.\n",
      "        device (str): Device used for running the model (GPU by default).\n",
      "                      Default is ''.\n",
      "        show (bool): Whether to display the video scene. Not supported in Google Colab.\n",
      "                     Default is False.\n",
      "        save (bool): Whether to save the videos illustrating the tracking results.\n",
      "                     Default is True.\n",
      "        classes (list): List of class indices to detect.\n",
      "                        Default is [1, 2, 3, 5, 7] (vehicles).\n",
      "        project (str): Folder to save the tracking results.\n",
      "                       Default is 'runs/count'.\n",
      "        exist_ok (bool): Whether to overwrite existing results.\n",
      "                         Default is True.\n",
      "        half (bool): Whether to use half-precision (16-bit floating-point format) to reduce memory consumption.\n",
      "                     Default is False.\n",
      "        vid_stride (int): Frame stride, e.g., process all frames with stride=1 or process every other frame with stride=2.\n",
      "                          Default is 1.\n",
      "        show_labels (bool): Whether to display labels (e.g., car, truck, bus) in the saved video results.\n",
      "                            Default is True.\n",
      "        show_conf (bool): Whether to display confidence scores of detections.\n",
      "                          Default is False.\n",
      "        save_txt (bool): Whether to save results in a text file format.\n",
      "                         Default is False.\n",
      "        save_id_crops (bool): Whether to save tracking results for each object in frames.\n",
      "                              Default is True.\n",
      "        save_mot (bool): Whether to save tracking results in a report file.\n",
      "                         Default is True.\n",
      "        line_width (int): Line width of the bounding boxes.\n",
      "                          Default is None.\n",
      "        per_class (bool): Whether to count per class.\n",
      "                          Default is True.\n",
      "        verbose (bool): Whether to enable verbose logging.\n",
      "                        Default is False.\n",
      "        counting_approach (str): Approach for counting vehicles. Options include 'detection_only', 'tracking_without_line', 'tracking_with_line', 'tracking_with_two_lines'.\n",
      "                                 Default is 'tracking_with_two_lines'.\n",
      "        line_point11 (tuple): Coordinates of the first point of the first line. Values between 0 and 1 indicate percentages.\n",
      "                              For example, (0.4, 0.0) means 40% of the frame width (pixel 0.4 * image width) and 0% of the frame height (pixel 0).\n",
      "                              When masking the video frames with included_box, it becomes 0.4 * new width after mask.\n",
      "        line_point12 (tuple): Coordinates of the second point of the first line. Values between 0 and 1 indicate percentages.\n",
      "                              For example, (0.3, 1.0) means 30% of the frame width (pixel 0.3 * image width) and 100% of the frame height (pixel image height).\n",
      "        line_vicinity (float): Vicinity of the line for counting. This argument is used in the 'detection_only' or 'tracking_with_line' counting approaches and ignored otherwise ('tracking_without_line' or 'tracking_with_two_lines').\n",
      "                               Default is 0.1.\n",
      "        line_point21 (tuple): Coordinates of the first point of the second line. Values between 0 and 1 indicate percentages.\n",
      "                              For example, (0.6, 0.0) means 60% of the frame width (pixel 0.6 * image width) and 0% of the frame height (pixel 0).\n",
      "                              This argument is considered only in the 'tracking_with_two_lines' counting approach and ignored otherwise.\n",
      "        line_point22 (tuple): Coordinates of the second point of the second line. Values between 0 and 1 indicate percentages.\n",
      "                              For example, (0.7, 1.0) means 70% of the frame width (pixel 0.7 * image width) and 100% of the frame height (pixel image height).\n",
      "                              This argument is considered only in the 'tracking_with_two_lines' counting approach and ignored otherwise.\n",
      "        use_mask (bool): Whether to use a mask for preprocessing. If set to False, 'visualize_masked_frames' and 'included_box' arguments will be ignored.\n",
      "                         If set to True, the percentages for 'line_point11', 'line_point12', 'line_point21', and 'line_point22' will be transformed to pixel values with respect to the included_box.\n",
      "                         Default is False.\n",
      "        visualize_masked_frames (bool): Whether to visualize masked frames.\n",
      "                                        Default is True.\n",
      "        included_box (list): Box coordinates for masking, specified as percentages between -1 and 1. For example, [0.1, 0.2, -0.2, -0.1] indicates:\n",
      "                             - The first two values (0.1, 0.2) represent the TOP-LEFT point of the included rectangle when using a mask for frames. \n",
      "                               This point is 10% of the width and 20% of the height.\n",
      "                             - The last two values (-0.2, -0.1) represent the BOTTOM-RIGHT point of the included rectangle after masking. \n",
      "                               This point is 80% of the width and 90% of the height.\n",
      "    \n"
     ]
    }
   ],
   "source": [
    "from counting.count import args\n",
    "print(args.__doc__)"
   ]
  },
  {
   "cell_type": "markdown",
   "metadata": {},
   "source": [
    "## 2.1. Counting Approach Configuration\n",
    "\n",
    "The first important argument to configure is `counting_approach`, which determines the method used to count vehicles in the road traffic video scene. This framework offers four counting approaches:\n",
    "\n",
    "1. **detection_only**\n",
    "2. **tracking_without_line**\n",
    "3. **tracking_with_line**\n",
    "4. **tracking_with_two_lines**\n",
    "\n",
    "### 2.1.1. detection_only\n",
    "This approach uses only a detector without a tracker. Each vehicle that crosses a predefined line - which can be set easily by specifying two points using the arguments `args.line_point11` and `args.line_point12` with percentages as described in the documentation above - is counted as a new vehicle. A vehicle is considered to have crossed the line if the distance between the line and the center point of the detected bounding box is less than the threshold `line_vicinity`, which can be manually set via the argument `args.line_vicinity`.\n",
    "\n",
    "**Pros:**\n",
    "- More efficient as it doesn't use a tracker, reducing processing time.\n",
    "\n",
    "**Cons:**\n",
    "- Vehicles may be over-counted if they appear in multiple consecutive frames.\n",
    "- This approach does not support the speed estimation algorithm.\n",
    "- Setting the reference line is not generic and depends on the specific traffic flow. You will need to adjust the line placement for each traffic scene based on the road traffic flow.\n",
    "\n",
    "To mitigate the inaccuracy of this approach, you can reduce the `line_vicinity` threshold to nearly zero. However, a very small threshold may result in under-counting as some vehicles might not be counted. Alternatively, you can adjust the `vid_stride` argument to 2, 3, or 4, depending on the frame rate of your video. Generally:\n",
    "  - Increasing `line_vicinity` leads to more over-counting.\n",
    "  - Decreasing `line_vicinity` leads to more under-counting.\n",
    "  - Higher `vid_stride` values (e.g., 2, 3, 4) result in more information loss, causing high-speed vehicles to be under-counted and low-speed vehicles to be over-counted.\n",
    "\n",
    "### 2.1.2. tracking_without_line\n",
    "This approach uses both a detector and a tracker to count vehicles, without relying on any reference lines. Instead, it is based on the unique IDs assigned by the tracker to each vehicle. The vehicle count in this approach corresponds to the number of unique IDs generated by the tracking algorithm. The accuracy of the count depends on the performance of the tracker in consistently assigning unique IDs across different frames.\n",
    "\n",
    "While high-performing trackers generally yield accurate results, even minor inaccuracies can lead to ID switches in complex scenes with overlapping, congestion, or fast-moving objects, resulting in significant counting errors.\n",
    "\n",
    "To mitigate these issues:\n",
    "- Increase the `vid_stride` argument to 2, 3, 4, or even 5, depending on your video scene.\n",
    "- Consider using more advanced trackers via the `tracking_method` argument.\n",
    "- Set `use_mask` to True and focus on specific areas of the video where counting is more reliable by defining the spatial box coordinates (of your focus) using the `included_box` argument to focus detection and tracking as described in the documentation.\n",
    "\n",
    "**Pros:**\n",
    "- More accurate than the \"detection_only\" approach.\n",
    "\n",
    "**Cons:**\n",
    "- Susceptible to ID switch issues in complex scenes, leading to over-counting.\n",
    "- Speed estimation is not supported.\n",
    "\n",
    "### 2.1.3. tracking_with_line\n",
    "This approach combines elements from both the `detection_only` and `tracking_without_line` methods. It utilizes a detector, a tracker, and a reference line to count vehicles. This method aims to mitigate the shortcomings of the `detection_only` approach (such as over-counting and under-counting) and the `tracking_without_line` approach (such as ID switch issues).\n",
    "\n",
    "In the `tracking_with_line` approach, counting is performed only when vehicles cross a predefined line. By setting a larger `line_vicinity`, under-counting can be avoided. Tracking within the vicinity of the line helps to prevent over-counting.\n",
    "\n",
    "**Pros:**\n",
    "- Very accurate, performing well even in complex road traffic environments.\n",
    "\n",
    "**Cons:**\n",
    "- Setting the reference line is not generic and depends on the specific traffic flow. For each different traffic scene, you will need to adjust the line placement based on the road traffic flow.\n",
    "- Speed estimation is not supported.\n",
    "\n",
    "**How to Set Up:**\n",
    "- Define the reference line using `args.line_point11` and `args.line_point12`.\n",
    "- Adjust the `line_vicinity` to ensure accurate counting.\n",
    "\n",
    "This approach effectively mitigates the issues of over-counting and under-counting seen in the `detection_only` method and the ID switch phenomena observed in the `tracking_without_line` method.\n",
    "\n",
    "### 2.1.4. tracking_with_two_lines\n",
    "This approach extends the `tracking_with_line` method. Instead of tracking vehicles in the vicinity of a single line, it tracks vehicles between two predefined lines. You can set these lines using the arguments `line_point11`, `line_point12`, `line_point21`, and `line_point22`.\n",
    "\n",
    "**Pros:**\n",
    "- Includes all the advantages of the `tracking_with_line` approach.\n",
    "- Supports the speed estimation algorithm.\n",
    "\n",
    "**Cons:**\n",
    "- Setting the reference lines is not generic and depends on the specific traffic flow. For each different traffic scene, you will need to adjust the line placements based on the road traffic flow.\n",
    "\n",
    "**How to Set Up:**\n",
    "- Define the two reference lines using `args.line_point11`, `args.line_point12`, `args.line_point21`, and `args.line_point22`.\n",
    "\n",
    "This approach combines the strengths of the `tracking_with_line` method while enabling speed estimation, making it suitable for complex road traffic environments.\n"
   ]
  },
  {
   "cell_type": "code",
   "execution_count": null,
   "metadata": {},
   "outputs": [],
   "source": []
  }
 ],
 "metadata": {
  "kernelspec": {
   "display_name": "Python 3 (ipykernel)",
   "language": "python",
   "name": "python3"
  },
  "language_info": {
   "codemirror_mode": {
    "name": "ipython",
    "version": 3
   },
   "file_extension": ".py",
   "mimetype": "text/x-python",
   "name": "python",
   "nbconvert_exporter": "python",
   "pygments_lexer": "ipython3",
   "version": "3.8.18"
  }
 },
 "nbformat": 4,
 "nbformat_minor": 4
}
