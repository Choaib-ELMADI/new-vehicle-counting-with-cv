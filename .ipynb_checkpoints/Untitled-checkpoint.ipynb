{
 "cells": [
  {
   "cell_type": "code",
   "execution_count": null,
   "id": "5cbc142c-4d27-4c85-8516-816662356f40",
   "metadata": {},
   "outputs": [],
   "source": [
    "#!pip install --upgrade pip setuptools wheel"
   ]
  },
  {
   "cell_type": "code",
   "execution_count": null,
   "id": "a10cbeca-e6fa-4968-b798-3ec785ba893a",
   "metadata": {
    "scrolled": true
   },
   "outputs": [],
   "source": [
    "#!pip install -e ."
   ]
  },
  {
   "cell_type": "code",
   "execution_count": null,
   "id": "93917fe6-ecfe-4ef2-a53b-4754d3fd6fa2",
   "metadata": {},
   "outputs": [],
   "source": []
  },
  {
   "cell_type": "code",
   "execution_count": null,
   "id": "5b04fad0-15b3-42b2-890e-d0b29fe86eda",
   "metadata": {},
   "outputs": [],
   "source": []
  },
  {
   "cell_type": "code",
   "execution_count": null,
   "id": "04ec0ab5-8aad-4ac5-8ae6-e7771bb471b4",
   "metadata": {},
   "outputs": [],
   "source": [
    "ids_set = {1 , 3 , 4}\n",
    "a = 5\n",
    "if a not in ids_set:\n",
    "    print(\"hhh\")"
   ]
  },
  {
   "cell_type": "code",
   "execution_count": null,
   "id": "b74692de-d0e6-4136-9c9a-6bebaf9185c3",
   "metadata": {},
   "outputs": [],
   "source": []
  },
  {
   "cell_type": "code",
   "execution_count": null,
   "id": "b47178b4-4c64-4f51-adfe-ddf12806604d",
   "metadata": {},
   "outputs": [],
   "source": []
  },
  {
   "cell_type": "code",
   "execution_count": null,
   "id": "c87001a6-eb35-4751-9c70-e0f2d88fac68",
   "metadata": {},
   "outputs": [],
   "source": []
  },
  {
   "cell_type": "code",
   "execution_count": null,
   "id": "028608a7-434e-4e0a-af12-0b6ad073ebad",
   "metadata": {},
   "outputs": [],
   "source": []
  },
  {
   "cell_type": "code",
   "execution_count": null,
   "id": "35bbdd9d-ab9e-43ad-883d-ef730f8ad572",
   "metadata": {},
   "outputs": [],
   "source": []
  },
  {
   "cell_type": "code",
   "execution_count": null,
   "id": "17974280-7d45-47df-8a1f-a8d5d576fe35",
   "metadata": {},
   "outputs": [],
   "source": []
  },
  {
   "cell_type": "code",
   "execution_count": 1,
   "id": "fb63763a-8b40-4212-933a-0101154bdb70",
   "metadata": {},
   "outputs": [
    {
     "name": "stdout",
     "output_type": "stream",
     "text": [
      "2.3.1\n"
     ]
    }
   ],
   "source": [
    "import torch\n",
    "\n",
    "\n",
    "print(torch.__version__)"
   ]
  },
  {
   "cell_type": "code",
   "execution_count": 2,
   "id": "1d6f332c-c809-4593-a375-d018ba3a5c0d",
   "metadata": {},
   "outputs": [
    {
     "data": {
      "text/plain": [
       "True"
      ]
     },
     "execution_count": 2,
     "metadata": {},
     "output_type": "execute_result"
    }
   ],
   "source": [
    "import torch\n",
    "if torch.cuda.is_available():\n",
    "    torch.cuda.get_device_properties(0).name \n",
    "torch.cuda.is_available()"
   ]
  },
  {
   "cell_type": "code",
   "execution_count": 3,
   "id": "0fa58a7f-42cd-41e3-aa67-5d7a2c9cc941",
   "metadata": {},
   "outputs": [
    {
     "name": "stdout",
     "output_type": "stream",
     "text": [
      "Setup complete. Using torch 2.3.1 (NVIDIA GeForce RTX 3050 6GB Laptop GPU)\n"
     ]
    }
   ],
   "source": [
    "import torch\n",
    "from IPython.display import Image, clear_output  # to display images\n",
    "\n",
    "clear_output()\n",
    "print(f\"Setup complete. Using torch {torch.__version__} ({torch.cuda.get_device_properties(0).name if torch.cuda.is_available() else 'CPU'})\")"
   ]
  },
  {
   "cell_type": "code",
   "execution_count": 4,
   "id": "1e53090e-5e56-4aae-af62-06bf7d6b0f77",
   "metadata": {},
   "outputs": [
    {
     "name": "stdout",
     "output_type": "stream",
     "text": [
      "hi before\n",
      "requirements are: ('ultralytics @ git+https://github.com/mikel-brostrom/ultralytics.git',)\n",
      "hi after\n"
     ]
    }
   ],
   "source": [
    "from counting.run_count import run\n",
    "from counting.count import args"
   ]
  },
  {
   "cell_type": "code",
   "execution_count": 14,
   "id": "1a773be7-f7e1-4b70-9aa7-4d8fd26d99a9",
   "metadata": {},
   "outputs": [
    {
     "name": "stdout",
     "output_type": "stream",
     "text": [
      "ultralytics @ git+https://github.com/mikel-brostrom/ultralytics.git\n",
      "<class 'str'>\n"
     ]
    }
   ],
   "source": [
    "for r in ('ultralytics @ git+https://github.com/mikel-brostrom/ultralytics.git',):\n",
    "    print(r)\n",
    "    print(type(r))"
   ]
  },
  {
   "cell_type": "code",
   "execution_count": null,
   "id": "f7912a16-4eca-491e-9ce5-2cf09a14d536",
   "metadata": {},
   "outputs": [],
   "source": []
  },
  {
   "cell_type": "code",
   "execution_count": 5,
   "id": "7695c4b5-7bf7-4adc-966f-a74fc586c041",
   "metadata": {},
   "outputs": [],
   "source": [
    "# !pip install memory_profiler\n",
    "# %load_ext memory_profiler\n",
    "# %memit run(args)"
   ]
  },
  {
   "cell_type": "markdown",
   "id": "e3eddcdc-41fe-41e3-9dff-a5788766e68b",
   "metadata": {},
   "source": [
    "### To print the documentation about the arguments:"
   ]
  },
  {
   "cell_type": "code",
   "execution_count": 6,
   "id": "557d5d06-aadb-437f-9985-83ba2dda8925",
   "metadata": {},
   "outputs": [
    {
     "name": "stdout",
     "output_type": "stream",
     "text": [
      "\n",
      "    This class contains configuration parameters for the vehicle counting system using the YOLO model and various tracking approaches.\n",
      "\n",
      "    Attributes:\n",
      "        source (str): Filename of the video to perform counting on.\n",
      "                      Need to be set.\n",
      "        name (str): Name of the folder for the current experiment results.\n",
      "                    Need to be set.\n",
      "        yolo_model (Path): Path to the YOLO model file.\n",
      "                           Default is 'yolov8n.pt'.\n",
      "        reid_model (Path): Path to the re-identification model file used if the tracker employs appearance description of objects.\n",
      "                           Examples include 'osnet_x0_25_market1501.pt', 'mobilenetv2_x1_4_msmt17.engine', etc.\n",
      "        tracking_method (str): Method used for tracking. Options include 'bytetrack', 'botsort', 'strongsort', 'ocsort', 'deepocsort', and 'hybridsort'.\n",
      "        imgsz (list): Input size of the frames.\n",
      "                      Default is [640].\n",
      "        conf (float): Confidence threshold for detection.\n",
      "                      Default is 0.6.\n",
      "        iou (float): Intersection over Union (IoU) threshold.\n",
      "                     Default is 0.7.\n",
      "        device (str): Device used for running the model (GPU by default).\n",
      "                      Default is ''.\n",
      "        show (bool): Whether to display the video scene. Not supported in Google Colab.\n",
      "                     Default is False.\n",
      "        save (bool): Whether to save the videos illustrating the tracking results.\n",
      "                     Default is True.\n",
      "        classes (list): List of class indices to detect.\n",
      "                        Default is [1, 2, 3, 5, 7] (vehicles).\n",
      "        project (str): Folder to save the tracking results.\n",
      "                       Default is 'runs/count'.\n",
      "        exist_ok (bool): Whether to overwrite existing results.\n",
      "                         Default is True.\n",
      "        half (bool): Whether to use half-precision (16-bit floating-point format) to reduce memory consumption.\n",
      "                     Default is False.\n",
      "        vid_stride (int): Frame stride, e.g., process all frames with stride=1 or process every other frame with stride=2.\n",
      "                          Default is 1.\n",
      "        show_labels (bool): Whether to display labels (e.g., car, truck, bus) in the saved video results.\n",
      "                            Default is True.\n",
      "        show_conf (bool): Whether to display confidence scores of detections.\n",
      "                          Default is False.\n",
      "        save_txt (bool): Whether to save results in a text file format.\n",
      "                         Default is False.\n",
      "        save_id_crops (bool): Whether to save tracking results for each object in frames.\n",
      "                              Default is True.\n",
      "        save_mot (bool): Whether to save tracking results in a report file.\n",
      "                         Default is True.\n",
      "        line_width (int): Line width of the bounding boxes.\n",
      "                          Default is None.\n",
      "        per_class (bool): Whether to count per class.\n",
      "                          Default is True.\n",
      "        verbose (bool): Whether to enable verbose logging.\n",
      "                        Default is False.\n",
      "        counting_approach (str): Approach for counting vehicles. Options include 'detection_only', 'tracking_without_line', 'tracking_with_line_vicinity', tracking_with_line_crossing, 'tracking_with_two_lines'.\n",
      "                                 Default is 'tracking_with_two_lines'.\n",
      "        line_point11 (tuple): Coordinates of the first point of the first line. Values between 0 and 1 indicate percentages.\n",
      "                              For example, (0.4, 0.0) means 40% of the frame width (pixel 0.4 * image width) and 0% of the frame height (pixel 0).\n",
      "                              When masking the video frames with included_box, it becomes 0.4 * new width after mask.\n",
      "        line_point12 (tuple): Coordinates of the second point of the first line. Values between 0 and 1 indicate percentages.\n",
      "                              For example, (0.3, 1.0) means 30% of the frame width (pixel 0.3 * image width) and 100% of the frame height (pixel image height).\n",
      "        line_vicinity (float): Vicinity of the line for counting. This argument is used in the 'detection_only' or 'tracking_with_line' counting approaches and ignored otherwise ('tracking_without_line' or 'tracking_with_two_lines').\n",
      "                               Default is 0.1.\n",
      "        line_point21 (tuple): Coordinates of the first point of the second line. Values between 0 and 1 indicate percentages.\n",
      "                              For example, (0.6, 0.0) means 60% of the frame width (pixel 0.6 * image width) and 0% of the frame height (pixel 0).\n",
      "                              This argument is considered only in the 'tracking_with_two_lines' counting approach and ignored otherwise.\n",
      "        line_point22 (tuple): Coordinates of the second point of the second line. Values between 0 and 1 indicate percentages.\n",
      "                              For example, (0.7, 1.0) means 70% of the frame width (pixel 0.7 * image width) and 100% of the frame height (pixel image height).\n",
      "                              This argument is considered only in the 'tracking_with_two_lines' counting approach and ignored otherwise.\n",
      "        use_mask (bool): Whether to use a mask for preprocessing. If set to False, 'visualize_masked_frames' and 'included_box' arguments will be ignored.\n",
      "                         If set to True, the percentages for 'line_point11', 'line_point12', 'line_point21', and 'line_point22' will be transformed to pixel values with respect to the included_box.\n",
      "                         Default is False.\n",
      "        visualize_masked_frames (bool): Whether to visualize masked frames.\n",
      "                                        Default is True.\n",
      "        included_box (list): Box coordinates for masking, specified as percentages between -1 and 1. For example, [0.1, 0.2, -0.2, -0.1] indicates:\n",
      "                             - The first two values (0.1, 0.2) represent the TOP-LEFT point of the included rectangle when using a mask for frames. \n",
      "                               This point is 10% of the width and 20% of the height.\n",
      "                             - The last two values (-0.2, -0.1) represent the BOTTOM-RIGHT point of the included rectangle after masking. \n",
      "                               This point is 80% of the width and 90% of the height.\n",
      "    \n"
     ]
    }
   ],
   "source": [
    "print(args.__doc__)"
   ]
  },
  {
   "cell_type": "markdown",
   "id": "b378eb93-3d90-4a08-8496-d51bb6f8c30d",
   "metadata": {},
   "source": [
    "### To edit some of these arguments:"
   ]
  },
  {
   "cell_type": "code",
   "execution_count": 7,
   "id": "37037602-4cb2-43a3-9a1b-1c2fd23fd9a8",
   "metadata": {},
   "outputs": [],
   "source": [
    "import os\n",
    "args.source = os.path.join(os.getcwd(), \"dataset_2\" , \"kech46.mp4\")\n",
    "args.name = \"kech\"\n",
    "args.counting_approach = \"tracking_with_line_vicinity\"         # tracking_with_line_vicinity , tracking_with_line_crossing, tracking_with_line_crossing_vicinity\n",
    "args.tracking_method = \"ocsort\"\n",
    "args.save=True\n",
    "args.verbose=True\n",
    "args.line_vicinity=1.5\n",
    "args.vid_stride = 1\n",
    "args.line_point11 = (0.0, 0.25)\n",
    "args.line_point12 = (1.0, 0.75)\n",
    "args.line_point21 = (0.65, 0.30)\n",
    "args.line_point22 = (0.92, 0.72)\n",
    "args.use_mask = False\n",
    "\n",
    "args.save_csv_count = False"
   ]
  },
  {
   "cell_type": "code",
   "execution_count": 8,
   "id": "1870513f-b16c-4125-9f37-de499e6bed32",
   "metadata": {},
   "outputs": [],
   "source": [
    "# {\"kech45\": ((0.0, 0.5),(1.0, 0.75)) ,  "
   ]
  },
  {
   "cell_type": "markdown",
   "id": "b9fc8f77-6a17-414e-98ca-10bb7935ea1e",
   "metadata": {},
   "source": [
    "### Run the counting over the chosen video with respect to the chosen approach:"
   ]
  },
  {
   "cell_type": "code",
   "execution_count": 9,
   "id": "b98c0eca-2456-46df-a702-e3dfe3b54a35",
   "metadata": {
    "scrolled": true
   },
   "outputs": [
    {
     "name": "stdout",
     "output_type": "stream",
     "text": [
      "You are following the detection&tracking in the vicinity of pre-defined line approach.\n",
      "\n",
      "WARNING ⚠️ NMS time limit 0.550s exceeded\n",
      "video 1/1 (1/448) C:\\Users\\hamza\\OneDrive\\Desktop\\Jupyter_programs\\yolo_tracking_for_counting\\dataset_2\\kech46.mp4: 640x512 1 car, 1249.7ms\n",
      "video 1/1 (2/448) C:\\Users\\hamza\\OneDrive\\Desktop\\Jupyter_programs\\yolo_tracking_for_counting\\dataset_2\\kech46.mp4: 640x512 1 car, 87.8ms\n",
      "video 1/1 (3/448) C:\\Users\\hamza\\OneDrive\\Desktop\\Jupyter_programs\\yolo_tracking_for_counting\\dataset_2\\kech46.mp4: 640x512 1 car, 84.5ms\n",
      "video 1/1 (4/448) C:\\Users\\hamza\\OneDrive\\Desktop\\Jupyter_programs\\yolo_tracking_for_counting\\dataset_2\\kech46.mp4: 640x512 1 car, 93.2ms\n",
      "video 1/1 (5/448) C:\\Users\\hamza\\OneDrive\\Desktop\\Jupyter_programs\\yolo_tracking_for_counting\\dataset_2\\kech46.mp4: 640x512 1 car, 89.7ms\n",
      "video 1/1 (6/448) C:\\Users\\hamza\\OneDrive\\Desktop\\Jupyter_programs\\yolo_tracking_for_counting\\dataset_2\\kech46.mp4: 640x512 1 car, 111.3ms\n",
      "video 1/1 (7/448) C:\\Users\\hamza\\OneDrive\\Desktop\\Jupyter_programs\\yolo_tracking_for_counting\\dataset_2\\kech46.mp4: 640x512 1 car, 114.5ms\n",
      "video 1/1 (8/448) C:\\Users\\hamza\\OneDrive\\Desktop\\Jupyter_programs\\yolo_tracking_for_counting\\dataset_2\\kech46.mp4: 640x512 1 car, 93.9ms\n",
      "video 1/1 (9/448) C:\\Users\\hamza\\OneDrive\\Desktop\\Jupyter_programs\\yolo_tracking_for_counting\\dataset_2\\kech46.mp4: 640x512 1 car, 24.9ms\n",
      "video 1/1 (10/448) C:\\Users\\hamza\\OneDrive\\Desktop\\Jupyter_programs\\yolo_tracking_for_counting\\dataset_2\\kech46.mp4: 640x512 1 car, 26.8ms\n",
      "video 1/1 (11/448) C:\\Users\\hamza\\OneDrive\\Desktop\\Jupyter_programs\\yolo_tracking_for_counting\\dataset_2\\kech46.mp4: 640x512 1 car, 23.0ms\n",
      "video 1/1 (12/448) C:\\Users\\hamza\\OneDrive\\Desktop\\Jupyter_programs\\yolo_tracking_for_counting\\dataset_2\\kech46.mp4: 640x512 1 car, 24.5ms\n",
      "video 1/1 (13/448) C:\\Users\\hamza\\OneDrive\\Desktop\\Jupyter_programs\\yolo_tracking_for_counting\\dataset_2\\kech46.mp4: 640x512 1 car, 49.9ms\n",
      "video 1/1 (14/448) C:\\Users\\hamza\\OneDrive\\Desktop\\Jupyter_programs\\yolo_tracking_for_counting\\dataset_2\\kech46.mp4: 640x512 1 car, 57.4ms\n",
      "video 1/1 (15/448) C:\\Users\\hamza\\OneDrive\\Desktop\\Jupyter_programs\\yolo_tracking_for_counting\\dataset_2\\kech46.mp4: 640x512 1 car, 24.8ms\n",
      "video 1/1 (16/448) C:\\Users\\hamza\\OneDrive\\Desktop\\Jupyter_programs\\yolo_tracking_for_counting\\dataset_2\\kech46.mp4: 640x512 1 car, 29.6ms\n",
      "video 1/1 (17/448) C:\\Users\\hamza\\OneDrive\\Desktop\\Jupyter_programs\\yolo_tracking_for_counting\\dataset_2\\kech46.mp4: 640x512 1 car, 25.3ms\n",
      "video 1/1 (18/448) C:\\Users\\hamza\\OneDrive\\Desktop\\Jupyter_programs\\yolo_tracking_for_counting\\dataset_2\\kech46.mp4: 640x512 1 car, 24.5ms\n",
      "video 1/1 (19/448) C:\\Users\\hamza\\OneDrive\\Desktop\\Jupyter_programs\\yolo_tracking_for_counting\\dataset_2\\kech46.mp4: 640x512 1 car, 23.1ms\n",
      "video 1/1 (20/448) C:\\Users\\hamza\\OneDrive\\Desktop\\Jupyter_programs\\yolo_tracking_for_counting\\dataset_2\\kech46.mp4: 640x512 1 car, 25.0ms\n",
      "video 1/1 (21/448) C:\\Users\\hamza\\OneDrive\\Desktop\\Jupyter_programs\\yolo_tracking_for_counting\\dataset_2\\kech46.mp4: 640x512 1 car, 24.8ms\n",
      "video 1/1 (22/448) C:\\Users\\hamza\\OneDrive\\Desktop\\Jupyter_programs\\yolo_tracking_for_counting\\dataset_2\\kech46.mp4: 640x512 1 car, 23.7ms\n",
      "video 1/1 (23/448) C:\\Users\\hamza\\OneDrive\\Desktop\\Jupyter_programs\\yolo_tracking_for_counting\\dataset_2\\kech46.mp4: 640x512 1 car, 24.6ms\n",
      "video 1/1 (24/448) C:\\Users\\hamza\\OneDrive\\Desktop\\Jupyter_programs\\yolo_tracking_for_counting\\dataset_2\\kech46.mp4: 640x512 1 car, 141.2ms\n",
      "video 1/1 (25/448) C:\\Users\\hamza\\OneDrive\\Desktop\\Jupyter_programs\\yolo_tracking_for_counting\\dataset_2\\kech46.mp4: 640x512 1 car, 153.4ms\n",
      "video 1/1 (26/448) C:\\Users\\hamza\\OneDrive\\Desktop\\Jupyter_programs\\yolo_tracking_for_counting\\dataset_2\\kech46.mp4: 640x512 1 car, 1 bus, 31.0ms\n",
      "video 1/1 (27/448) C:\\Users\\hamza\\OneDrive\\Desktop\\Jupyter_programs\\yolo_tracking_for_counting\\dataset_2\\kech46.mp4: 640x512 1 car, 24.3ms\n",
      "video 1/1 (28/448) C:\\Users\\hamza\\OneDrive\\Desktop\\Jupyter_programs\\yolo_tracking_for_counting\\dataset_2\\kech46.mp4: 640x512 1 car, 24.6ms\n",
      "video 1/1 (29/448) C:\\Users\\hamza\\OneDrive\\Desktop\\Jupyter_programs\\yolo_tracking_for_counting\\dataset_2\\kech46.mp4: 640x512 1 car, 50.0ms\n",
      "video 1/1 (30/448) C:\\Users\\hamza\\OneDrive\\Desktop\\Jupyter_programs\\yolo_tracking_for_counting\\dataset_2\\kech46.mp4: 640x512 1 car, 47.3ms\n",
      "video 1/1 (31/448) C:\\Users\\hamza\\OneDrive\\Desktop\\Jupyter_programs\\yolo_tracking_for_counting\\dataset_2\\kech46.mp4: 640x512 1 car, 24.7ms\n",
      "video 1/1 (32/448) C:\\Users\\hamza\\OneDrive\\Desktop\\Jupyter_programs\\yolo_tracking_for_counting\\dataset_2\\kech46.mp4: 640x512 1 car, 23.7ms\n",
      "video 1/1 (33/448) C:\\Users\\hamza\\OneDrive\\Desktop\\Jupyter_programs\\yolo_tracking_for_counting\\dataset_2\\kech46.mp4: 640x512 1 car, 22.2ms\n",
      "video 1/1 (34/448) C:\\Users\\hamza\\OneDrive\\Desktop\\Jupyter_programs\\yolo_tracking_for_counting\\dataset_2\\kech46.mp4: 640x512 1 car, 24.9ms\n",
      "video 1/1 (35/448) C:\\Users\\hamza\\OneDrive\\Desktop\\Jupyter_programs\\yolo_tracking_for_counting\\dataset_2\\kech46.mp4: 640x512 1 car, 25.8ms\n",
      "video 1/1 (36/448) C:\\Users\\hamza\\OneDrive\\Desktop\\Jupyter_programs\\yolo_tracking_for_counting\\dataset_2\\kech46.mp4: 640x512 1 car, 25.6ms\n",
      "video 1/1 (37/448) C:\\Users\\hamza\\OneDrive\\Desktop\\Jupyter_programs\\yolo_tracking_for_counting\\dataset_2\\kech46.mp4: 640x512 1 car, 23.8ms\n",
      "video 1/1 (38/448) C:\\Users\\hamza\\OneDrive\\Desktop\\Jupyter_programs\\yolo_tracking_for_counting\\dataset_2\\kech46.mp4: 640x512 1 car, 23.0ms\n",
      "video 1/1 (39/448) C:\\Users\\hamza\\OneDrive\\Desktop\\Jupyter_programs\\yolo_tracking_for_counting\\dataset_2\\kech46.mp4: 640x512 1 car, 19.8ms\n",
      "video 1/1 (40/448) C:\\Users\\hamza\\OneDrive\\Desktop\\Jupyter_programs\\yolo_tracking_for_counting\\dataset_2\\kech46.mp4: 640x512 1 car, 19.6ms\n",
      "video 1/1 (41/448) C:\\Users\\hamza\\OneDrive\\Desktop\\Jupyter_programs\\yolo_tracking_for_counting\\dataset_2\\kech46.mp4: 640x512 1 car, 24.5ms\n",
      "video 1/1 (42/448) C:\\Users\\hamza\\OneDrive\\Desktop\\Jupyter_programs\\yolo_tracking_for_counting\\dataset_2\\kech46.mp4: 640x512 1 car, 22.9ms\n",
      "video 1/1 (43/448) C:\\Users\\hamza\\OneDrive\\Desktop\\Jupyter_programs\\yolo_tracking_for_counting\\dataset_2\\kech46.mp4: 640x512 1 car, 22.8ms\n",
      "video 1/1 (44/448) C:\\Users\\hamza\\OneDrive\\Desktop\\Jupyter_programs\\yolo_tracking_for_counting\\dataset_2\\kech46.mp4: 640x512 2 cars, 22.8ms\n",
      "video 1/1 (45/448) C:\\Users\\hamza\\OneDrive\\Desktop\\Jupyter_programs\\yolo_tracking_for_counting\\dataset_2\\kech46.mp4: 640x512 1 car, 21.5ms\n",
      "video 1/1 (46/448) C:\\Users\\hamza\\OneDrive\\Desktop\\Jupyter_programs\\yolo_tracking_for_counting\\dataset_2\\kech46.mp4: 640x512 1 car, 24.9ms\n",
      "video 1/1 (47/448) C:\\Users\\hamza\\OneDrive\\Desktop\\Jupyter_programs\\yolo_tracking_for_counting\\dataset_2\\kech46.mp4: 640x512 1 car, 23.9ms\n",
      "video 1/1 (48/448) C:\\Users\\hamza\\OneDrive\\Desktop\\Jupyter_programs\\yolo_tracking_for_counting\\dataset_2\\kech46.mp4: 640x512 1 car, 19.1ms\n",
      "video 1/1 (49/448) C:\\Users\\hamza\\OneDrive\\Desktop\\Jupyter_programs\\yolo_tracking_for_counting\\dataset_2\\kech46.mp4: 640x512 1 car, 22.0ms\n",
      "video 1/1 (50/448) C:\\Users\\hamza\\OneDrive\\Desktop\\Jupyter_programs\\yolo_tracking_for_counting\\dataset_2\\kech46.mp4: 640x512 2 cars, 24.9ms\n",
      "video 1/1 (51/448) C:\\Users\\hamza\\OneDrive\\Desktop\\Jupyter_programs\\yolo_tracking_for_counting\\dataset_2\\kech46.mp4: 640x512 1 car, 23.7ms\n",
      "video 1/1 (52/448) C:\\Users\\hamza\\OneDrive\\Desktop\\Jupyter_programs\\yolo_tracking_for_counting\\dataset_2\\kech46.mp4: 640x512 1 car, 22.1ms\n",
      "video 1/1 (53/448) C:\\Users\\hamza\\OneDrive\\Desktop\\Jupyter_programs\\yolo_tracking_for_counting\\dataset_2\\kech46.mp4: 640x512 2 cars, 20.2ms\n",
      "video 1/1 (54/448) C:\\Users\\hamza\\OneDrive\\Desktop\\Jupyter_programs\\yolo_tracking_for_counting\\dataset_2\\kech46.mp4: 640x512 2 cars, 29.3ms\n",
      "video 1/1 (55/448) C:\\Users\\hamza\\OneDrive\\Desktop\\Jupyter_programs\\yolo_tracking_for_counting\\dataset_2\\kech46.mp4: 640x512 1 car, 24.7ms\n",
      "video 1/1 (56/448) C:\\Users\\hamza\\OneDrive\\Desktop\\Jupyter_programs\\yolo_tracking_for_counting\\dataset_2\\kech46.mp4: 640x512 2 cars, 24.8ms\n",
      "video 1/1 (57/448) C:\\Users\\hamza\\OneDrive\\Desktop\\Jupyter_programs\\yolo_tracking_for_counting\\dataset_2\\kech46.mp4: 640x512 2 cars, 24.4ms\n",
      "video 1/1 (58/448) C:\\Users\\hamza\\OneDrive\\Desktop\\Jupyter_programs\\yolo_tracking_for_counting\\dataset_2\\kech46.mp4: 640x512 2 cars, 23.8ms\n",
      "video 1/1 (59/448) C:\\Users\\hamza\\OneDrive\\Desktop\\Jupyter_programs\\yolo_tracking_for_counting\\dataset_2\\kech46.mp4: 640x512 2 cars, 24.0ms\n",
      "video 1/1 (60/448) C:\\Users\\hamza\\OneDrive\\Desktop\\Jupyter_programs\\yolo_tracking_for_counting\\dataset_2\\kech46.mp4: 640x512 1 car, 26.5ms\n",
      "video 1/1 (61/448) C:\\Users\\hamza\\OneDrive\\Desktop\\Jupyter_programs\\yolo_tracking_for_counting\\dataset_2\\kech46.mp4: 640x512 2 cars, 27.4ms\n",
      "video 1/1 (62/448) C:\\Users\\hamza\\OneDrive\\Desktop\\Jupyter_programs\\yolo_tracking_for_counting\\dataset_2\\kech46.mp4: 640x512 2 cars, 26.5ms\n",
      "video 1/1 (63/448) C:\\Users\\hamza\\OneDrive\\Desktop\\Jupyter_programs\\yolo_tracking_for_counting\\dataset_2\\kech46.mp4: 640x512 1 car, 22.3ms\n",
      "video 1/1 (64/448) C:\\Users\\hamza\\OneDrive\\Desktop\\Jupyter_programs\\yolo_tracking_for_counting\\dataset_2\\kech46.mp4: 640x512 2 cars, 24.6ms\n",
      "video 1/1 (65/448) C:\\Users\\hamza\\OneDrive\\Desktop\\Jupyter_programs\\yolo_tracking_for_counting\\dataset_2\\kech46.mp4: 640x512 1 car, 26.3ms\n",
      "video 1/1 (66/448) C:\\Users\\hamza\\OneDrive\\Desktop\\Jupyter_programs\\yolo_tracking_for_counting\\dataset_2\\kech46.mp4: 640x512 2 cars, 24.7ms\n",
      "video 1/1 (67/448) C:\\Users\\hamza\\OneDrive\\Desktop\\Jupyter_programs\\yolo_tracking_for_counting\\dataset_2\\kech46.mp4: 640x512 1 car, 24.9ms\n",
      "video 1/1 (68/448) C:\\Users\\hamza\\OneDrive\\Desktop\\Jupyter_programs\\yolo_tracking_for_counting\\dataset_2\\kech46.mp4: 640x512 2 cars, 24.5ms\n",
      "video 1/1 (69/448) C:\\Users\\hamza\\OneDrive\\Desktop\\Jupyter_programs\\yolo_tracking_for_counting\\dataset_2\\kech46.mp4: 640x512 2 cars, 25.2ms\n",
      "video 1/1 (70/448) C:\\Users\\hamza\\OneDrive\\Desktop\\Jupyter_programs\\yolo_tracking_for_counting\\dataset_2\\kech46.mp4: 640x512 2 cars, 23.8ms\n",
      "video 1/1 (71/448) C:\\Users\\hamza\\OneDrive\\Desktop\\Jupyter_programs\\yolo_tracking_for_counting\\dataset_2\\kech46.mp4: 640x512 2 cars, 25.7ms\n",
      "video 1/1 (72/448) C:\\Users\\hamza\\OneDrive\\Desktop\\Jupyter_programs\\yolo_tracking_for_counting\\dataset_2\\kech46.mp4: 640x512 2 cars, 23.1ms\n",
      "video 1/1 (73/448) C:\\Users\\hamza\\OneDrive\\Desktop\\Jupyter_programs\\yolo_tracking_for_counting\\dataset_2\\kech46.mp4: 640x512 1 car, 22.6ms\n",
      "video 1/1 (74/448) C:\\Users\\hamza\\OneDrive\\Desktop\\Jupyter_programs\\yolo_tracking_for_counting\\dataset_2\\kech46.mp4: 640x512 2 cars, 26.0ms\n",
      "video 1/1 (75/448) C:\\Users\\hamza\\OneDrive\\Desktop\\Jupyter_programs\\yolo_tracking_for_counting\\dataset_2\\kech46.mp4: 640x512 2 cars, 25.6ms\n",
      "video 1/1 (76/448) C:\\Users\\hamza\\OneDrive\\Desktop\\Jupyter_programs\\yolo_tracking_for_counting\\dataset_2\\kech46.mp4: 640x512 1 car, 24.7ms\n",
      "video 1/1 (77/448) C:\\Users\\hamza\\OneDrive\\Desktop\\Jupyter_programs\\yolo_tracking_for_counting\\dataset_2\\kech46.mp4: 640x512 1 car, 25.4ms\n",
      "video 1/1 (78/448) C:\\Users\\hamza\\OneDrive\\Desktop\\Jupyter_programs\\yolo_tracking_for_counting\\dataset_2\\kech46.mp4: 640x512 1 car, 24.2ms\n",
      "video 1/1 (79/448) C:\\Users\\hamza\\OneDrive\\Desktop\\Jupyter_programs\\yolo_tracking_for_counting\\dataset_2\\kech46.mp4: 640x512 1 car, 28.5ms\n",
      "video 1/1 (80/448) C:\\Users\\hamza\\OneDrive\\Desktop\\Jupyter_programs\\yolo_tracking_for_counting\\dataset_2\\kech46.mp4: 640x512 1 car, 25.8ms\n",
      "video 1/1 (81/448) C:\\Users\\hamza\\OneDrive\\Desktop\\Jupyter_programs\\yolo_tracking_for_counting\\dataset_2\\kech46.mp4: 640x512 1 car, 25.0ms\n",
      "video 1/1 (82/448) C:\\Users\\hamza\\OneDrive\\Desktop\\Jupyter_programs\\yolo_tracking_for_counting\\dataset_2\\kech46.mp4: 640x512 1 car, 19.8ms\n",
      "video 1/1 (83/448) C:\\Users\\hamza\\OneDrive\\Desktop\\Jupyter_programs\\yolo_tracking_for_counting\\dataset_2\\kech46.mp4: 640x512 1 car, 25.1ms\n",
      "video 1/1 (84/448) C:\\Users\\hamza\\OneDrive\\Desktop\\Jupyter_programs\\yolo_tracking_for_counting\\dataset_2\\kech46.mp4: 640x512 1 car, 27.0ms\n",
      "video 1/1 (85/448) C:\\Users\\hamza\\OneDrive\\Desktop\\Jupyter_programs\\yolo_tracking_for_counting\\dataset_2\\kech46.mp4: 640x512 1 car, 24.8ms\n",
      "video 1/1 (86/448) C:\\Users\\hamza\\OneDrive\\Desktop\\Jupyter_programs\\yolo_tracking_for_counting\\dataset_2\\kech46.mp4: 640x512 1 car, 25.0ms\n",
      "video 1/1 (87/448) C:\\Users\\hamza\\OneDrive\\Desktop\\Jupyter_programs\\yolo_tracking_for_counting\\dataset_2\\kech46.mp4: 640x512 2 cars, 26.5ms\n",
      "video 1/1 (88/448) C:\\Users\\hamza\\OneDrive\\Desktop\\Jupyter_programs\\yolo_tracking_for_counting\\dataset_2\\kech46.mp4: 640x512 1 car, 24.2ms\n",
      "video 1/1 (89/448) C:\\Users\\hamza\\OneDrive\\Desktop\\Jupyter_programs\\yolo_tracking_for_counting\\dataset_2\\kech46.mp4: 640x512 1 car, 23.4ms\n",
      "video 1/1 (90/448) C:\\Users\\hamza\\OneDrive\\Desktop\\Jupyter_programs\\yolo_tracking_for_counting\\dataset_2\\kech46.mp4: 640x512 1 car, 25.8ms\n",
      "video 1/1 (91/448) C:\\Users\\hamza\\OneDrive\\Desktop\\Jupyter_programs\\yolo_tracking_for_counting\\dataset_2\\kech46.mp4: 640x512 1 car, 26.7ms\n",
      "video 1/1 (92/448) C:\\Users\\hamza\\OneDrive\\Desktop\\Jupyter_programs\\yolo_tracking_for_counting\\dataset_2\\kech46.mp4: 640x512 1 car, 30.7ms\n",
      "video 1/1 (93/448) C:\\Users\\hamza\\OneDrive\\Desktop\\Jupyter_programs\\yolo_tracking_for_counting\\dataset_2\\kech46.mp4: 640x512 1 car, 25.6ms\n",
      "video 1/1 (94/448) C:\\Users\\hamza\\OneDrive\\Desktop\\Jupyter_programs\\yolo_tracking_for_counting\\dataset_2\\kech46.mp4: 640x512 2 cars, 21.7ms\n",
      "video 1/1 (95/448) C:\\Users\\hamza\\OneDrive\\Desktop\\Jupyter_programs\\yolo_tracking_for_counting\\dataset_2\\kech46.mp4: 640x512 1 car, 26.4ms\n",
      "video 1/1 (96/448) C:\\Users\\hamza\\OneDrive\\Desktop\\Jupyter_programs\\yolo_tracking_for_counting\\dataset_2\\kech46.mp4: 640x512 2 cars, 23.7ms\n",
      "video 1/1 (97/448) C:\\Users\\hamza\\OneDrive\\Desktop\\Jupyter_programs\\yolo_tracking_for_counting\\dataset_2\\kech46.mp4: 640x512 2 cars, 25.6ms\n",
      "video 1/1 (98/448) C:\\Users\\hamza\\OneDrive\\Desktop\\Jupyter_programs\\yolo_tracking_for_counting\\dataset_2\\kech46.mp4: 640x512 1 car, 23.8ms\n",
      "video 1/1 (99/448) C:\\Users\\hamza\\OneDrive\\Desktop\\Jupyter_programs\\yolo_tracking_for_counting\\dataset_2\\kech46.mp4: 640x512 2 cars, 15.9ms\n",
      "video 1/1 (100/448) C:\\Users\\hamza\\OneDrive\\Desktop\\Jupyter_programs\\yolo_tracking_for_counting\\dataset_2\\kech46.mp4: 640x512 1 car, 18.4ms\n",
      "video 1/1 (101/448) C:\\Users\\hamza\\OneDrive\\Desktop\\Jupyter_programs\\yolo_tracking_for_counting\\dataset_2\\kech46.mp4: 640x512 1 car, 26.6ms\n",
      "video 1/1 (102/448) C:\\Users\\hamza\\OneDrive\\Desktop\\Jupyter_programs\\yolo_tracking_for_counting\\dataset_2\\kech46.mp4: 640x512 (no detections), 21.8ms\n",
      "video 1/1 (103/448) C:\\Users\\hamza\\OneDrive\\Desktop\\Jupyter_programs\\yolo_tracking_for_counting\\dataset_2\\kech46.mp4: 640x512 (no detections), 22.8ms\n",
      "video 1/1 (104/448) C:\\Users\\hamza\\OneDrive\\Desktop\\Jupyter_programs\\yolo_tracking_for_counting\\dataset_2\\kech46.mp4: 640x512 1 car, 24.0ms\n",
      "video 1/1 (105/448) C:\\Users\\hamza\\OneDrive\\Desktop\\Jupyter_programs\\yolo_tracking_for_counting\\dataset_2\\kech46.mp4: 640x512 1 car, 25.0ms\n",
      "video 1/1 (106/448) C:\\Users\\hamza\\OneDrive\\Desktop\\Jupyter_programs\\yolo_tracking_for_counting\\dataset_2\\kech46.mp4: 640x512 2 cars, 25.0ms\n",
      "video 1/1 (107/448) C:\\Users\\hamza\\OneDrive\\Desktop\\Jupyter_programs\\yolo_tracking_for_counting\\dataset_2\\kech46.mp4: 640x512 1 car, 24.3ms\n",
      "video 1/1 (108/448) C:\\Users\\hamza\\OneDrive\\Desktop\\Jupyter_programs\\yolo_tracking_for_counting\\dataset_2\\kech46.mp4: 640x512 2 cars, 30.7ms\n",
      "video 1/1 (109/448) C:\\Users\\hamza\\OneDrive\\Desktop\\Jupyter_programs\\yolo_tracking_for_counting\\dataset_2\\kech46.mp4: 640x512 2 cars, 24.1ms\n",
      "video 1/1 (110/448) C:\\Users\\hamza\\OneDrive\\Desktop\\Jupyter_programs\\yolo_tracking_for_counting\\dataset_2\\kech46.mp4: 640x512 2 cars, 17.8ms\n",
      "video 1/1 (111/448) C:\\Users\\hamza\\OneDrive\\Desktop\\Jupyter_programs\\yolo_tracking_for_counting\\dataset_2\\kech46.mp4: 640x512 2 cars, 22.0ms\n",
      "video 1/1 (112/448) C:\\Users\\hamza\\OneDrive\\Desktop\\Jupyter_programs\\yolo_tracking_for_counting\\dataset_2\\kech46.mp4: 640x512 2 cars, 14.6ms\n",
      "video 1/1 (113/448) C:\\Users\\hamza\\OneDrive\\Desktop\\Jupyter_programs\\yolo_tracking_for_counting\\dataset_2\\kech46.mp4: 640x512 2 cars, 15.7ms\n",
      "video 1/1 (114/448) C:\\Users\\hamza\\OneDrive\\Desktop\\Jupyter_programs\\yolo_tracking_for_counting\\dataset_2\\kech46.mp4: 640x512 2 cars, 22.1ms\n",
      "video 1/1 (115/448) C:\\Users\\hamza\\OneDrive\\Desktop\\Jupyter_programs\\yolo_tracking_for_counting\\dataset_2\\kech46.mp4: 640x512 2 cars, 28.8ms\n",
      "video 1/1 (116/448) C:\\Users\\hamza\\OneDrive\\Desktop\\Jupyter_programs\\yolo_tracking_for_counting\\dataset_2\\kech46.mp4: 640x512 1 car, 15.6ms\n",
      "video 1/1 (117/448) C:\\Users\\hamza\\OneDrive\\Desktop\\Jupyter_programs\\yolo_tracking_for_counting\\dataset_2\\kech46.mp4: 640x512 1 car, 19.1ms\n",
      "video 1/1 (118/448) C:\\Users\\hamza\\OneDrive\\Desktop\\Jupyter_programs\\yolo_tracking_for_counting\\dataset_2\\kech46.mp4: 640x512 1 car, 23.8ms\n",
      "video 1/1 (119/448) C:\\Users\\hamza\\OneDrive\\Desktop\\Jupyter_programs\\yolo_tracking_for_counting\\dataset_2\\kech46.mp4: 640x512 1 car, 16.1ms\n",
      "video 1/1 (120/448) C:\\Users\\hamza\\OneDrive\\Desktop\\Jupyter_programs\\yolo_tracking_for_counting\\dataset_2\\kech46.mp4: 640x512 1 car, 25.6ms\n",
      "video 1/1 (121/448) C:\\Users\\hamza\\OneDrive\\Desktop\\Jupyter_programs\\yolo_tracking_for_counting\\dataset_2\\kech46.mp4: 640x512 1 car, 16.5ms\n",
      "video 1/1 (122/448) C:\\Users\\hamza\\OneDrive\\Desktop\\Jupyter_programs\\yolo_tracking_for_counting\\dataset_2\\kech46.mp4: 640x512 1 car, 28.1ms\n",
      "video 1/1 (123/448) C:\\Users\\hamza\\OneDrive\\Desktop\\Jupyter_programs\\yolo_tracking_for_counting\\dataset_2\\kech46.mp4: 640x512 1 car, 13.0ms\n",
      "video 1/1 (124/448) C:\\Users\\hamza\\OneDrive\\Desktop\\Jupyter_programs\\yolo_tracking_for_counting\\dataset_2\\kech46.mp4: 640x512 1 car, 24.1ms\n",
      "video 1/1 (125/448) C:\\Users\\hamza\\OneDrive\\Desktop\\Jupyter_programs\\yolo_tracking_for_counting\\dataset_2\\kech46.mp4: 640x512 1 car, 15.1ms\n",
      "video 1/1 (126/448) C:\\Users\\hamza\\OneDrive\\Desktop\\Jupyter_programs\\yolo_tracking_for_counting\\dataset_2\\kech46.mp4: 640x512 2 cars, 15.5ms\n",
      "video 1/1 (127/448) C:\\Users\\hamza\\OneDrive\\Desktop\\Jupyter_programs\\yolo_tracking_for_counting\\dataset_2\\kech46.mp4: 640x512 1 car, 15.1ms\n",
      "video 1/1 (128/448) C:\\Users\\hamza\\OneDrive\\Desktop\\Jupyter_programs\\yolo_tracking_for_counting\\dataset_2\\kech46.mp4: 640x512 1 car, 29.8ms\n",
      "video 1/1 (129/448) C:\\Users\\hamza\\OneDrive\\Desktop\\Jupyter_programs\\yolo_tracking_for_counting\\dataset_2\\kech46.mp4: 640x512 1 car, 25.0ms\n",
      "video 1/1 (130/448) C:\\Users\\hamza\\OneDrive\\Desktop\\Jupyter_programs\\yolo_tracking_for_counting\\dataset_2\\kech46.mp4: 640x512 1 car, 16.7ms\n",
      "video 1/1 (131/448) C:\\Users\\hamza\\OneDrive\\Desktop\\Jupyter_programs\\yolo_tracking_for_counting\\dataset_2\\kech46.mp4: 640x512 1 car, 24.7ms\n",
      "video 1/1 (132/448) C:\\Users\\hamza\\OneDrive\\Desktop\\Jupyter_programs\\yolo_tracking_for_counting\\dataset_2\\kech46.mp4: 640x512 1 car, 23.6ms\n",
      "video 1/1 (133/448) C:\\Users\\hamza\\OneDrive\\Desktop\\Jupyter_programs\\yolo_tracking_for_counting\\dataset_2\\kech46.mp4: 640x512 1 car, 27.3ms\n",
      "video 1/1 (134/448) C:\\Users\\hamza\\OneDrive\\Desktop\\Jupyter_programs\\yolo_tracking_for_counting\\dataset_2\\kech46.mp4: 640x512 1 car, 15.6ms\n",
      "video 1/1 (135/448) C:\\Users\\hamza\\OneDrive\\Desktop\\Jupyter_programs\\yolo_tracking_for_counting\\dataset_2\\kech46.mp4: 640x512 1 car, 15.1ms\n",
      "video 1/1 (136/448) C:\\Users\\hamza\\OneDrive\\Desktop\\Jupyter_programs\\yolo_tracking_for_counting\\dataset_2\\kech46.mp4: 640x512 1 car, 24.7ms\n",
      "video 1/1 (137/448) C:\\Users\\hamza\\OneDrive\\Desktop\\Jupyter_programs\\yolo_tracking_for_counting\\dataset_2\\kech46.mp4: 640x512 1 car, 15.6ms\n",
      "video 1/1 (138/448) C:\\Users\\hamza\\OneDrive\\Desktop\\Jupyter_programs\\yolo_tracking_for_counting\\dataset_2\\kech46.mp4: 640x512 1 car, 26.8ms\n",
      "video 1/1 (139/448) C:\\Users\\hamza\\OneDrive\\Desktop\\Jupyter_programs\\yolo_tracking_for_counting\\dataset_2\\kech46.mp4: 640x512 1 car, 15.1ms\n",
      "video 1/1 (140/448) C:\\Users\\hamza\\OneDrive\\Desktop\\Jupyter_programs\\yolo_tracking_for_counting\\dataset_2\\kech46.mp4: 640x512 1 car, 27.3ms\n",
      "video 1/1 (141/448) C:\\Users\\hamza\\OneDrive\\Desktop\\Jupyter_programs\\yolo_tracking_for_counting\\dataset_2\\kech46.mp4: 640x512 1 car, 15.3ms\n",
      "video 1/1 (142/448) C:\\Users\\hamza\\OneDrive\\Desktop\\Jupyter_programs\\yolo_tracking_for_counting\\dataset_2\\kech46.mp4: 640x512 1 car, 21.3ms\n",
      "video 1/1 (143/448) C:\\Users\\hamza\\OneDrive\\Desktop\\Jupyter_programs\\yolo_tracking_for_counting\\dataset_2\\kech46.mp4: 640x512 1 car, 15.1ms\n",
      "video 1/1 (144/448) C:\\Users\\hamza\\OneDrive\\Desktop\\Jupyter_programs\\yolo_tracking_for_counting\\dataset_2\\kech46.mp4: 640x512 1 car, 12.1ms\n",
      "video 1/1 (145/448) C:\\Users\\hamza\\OneDrive\\Desktop\\Jupyter_programs\\yolo_tracking_for_counting\\dataset_2\\kech46.mp4: 640x512 1 car, 16.4ms\n",
      "video 1/1 (146/448) C:\\Users\\hamza\\OneDrive\\Desktop\\Jupyter_programs\\yolo_tracking_for_counting\\dataset_2\\kech46.mp4: 640x512 1 car, 15.1ms\n",
      "video 1/1 (147/448) C:\\Users\\hamza\\OneDrive\\Desktop\\Jupyter_programs\\yolo_tracking_for_counting\\dataset_2\\kech46.mp4: 640x512 1 car, 58.8ms\n",
      "video 1/1 (148/448) C:\\Users\\hamza\\OneDrive\\Desktop\\Jupyter_programs\\yolo_tracking_for_counting\\dataset_2\\kech46.mp4: 640x512 1 car, 23.5ms\n",
      "video 1/1 (149/448) C:\\Users\\hamza\\OneDrive\\Desktop\\Jupyter_programs\\yolo_tracking_for_counting\\dataset_2\\kech46.mp4: 640x512 1 car, 17.4ms\n",
      "video 1/1 (150/448) C:\\Users\\hamza\\OneDrive\\Desktop\\Jupyter_programs\\yolo_tracking_for_counting\\dataset_2\\kech46.mp4: 640x512 1 car, 24.4ms\n",
      "video 1/1 (151/448) C:\\Users\\hamza\\OneDrive\\Desktop\\Jupyter_programs\\yolo_tracking_for_counting\\dataset_2\\kech46.mp4: 640x512 1 car, 15.1ms\n",
      "video 1/1 (152/448) C:\\Users\\hamza\\OneDrive\\Desktop\\Jupyter_programs\\yolo_tracking_for_counting\\dataset_2\\kech46.mp4: 640x512 1 car, 25.0ms\n",
      "video 1/1 (153/448) C:\\Users\\hamza\\OneDrive\\Desktop\\Jupyter_programs\\yolo_tracking_for_counting\\dataset_2\\kech46.mp4: 640x512 1 car, 24.4ms\n",
      "video 1/1 (154/448) C:\\Users\\hamza\\OneDrive\\Desktop\\Jupyter_programs\\yolo_tracking_for_counting\\dataset_2\\kech46.mp4: 640x512 1 car, 14.8ms\n",
      "video 1/1 (155/448) C:\\Users\\hamza\\OneDrive\\Desktop\\Jupyter_programs\\yolo_tracking_for_counting\\dataset_2\\kech46.mp4: 640x512 2 cars, 15.2ms\n",
      "video 1/1 (156/448) C:\\Users\\hamza\\OneDrive\\Desktop\\Jupyter_programs\\yolo_tracking_for_counting\\dataset_2\\kech46.mp4: 640x512 2 cars, 27.8ms\n",
      "video 1/1 (157/448) C:\\Users\\hamza\\OneDrive\\Desktop\\Jupyter_programs\\yolo_tracking_for_counting\\dataset_2\\kech46.mp4: 640x512 2 cars, 15.7ms\n",
      "video 1/1 (158/448) C:\\Users\\hamza\\OneDrive\\Desktop\\Jupyter_programs\\yolo_tracking_for_counting\\dataset_2\\kech46.mp4: 640x512 1 car, 24.9ms\n",
      "video 1/1 (159/448) C:\\Users\\hamza\\OneDrive\\Desktop\\Jupyter_programs\\yolo_tracking_for_counting\\dataset_2\\kech46.mp4: 640x512 2 cars, 13.1ms\n",
      "video 1/1 (160/448) C:\\Users\\hamza\\OneDrive\\Desktop\\Jupyter_programs\\yolo_tracking_for_counting\\dataset_2\\kech46.mp4: 640x512 1 car, 24.8ms\n",
      "video 1/1 (161/448) C:\\Users\\hamza\\OneDrive\\Desktop\\Jupyter_programs\\yolo_tracking_for_counting\\dataset_2\\kech46.mp4: 640x512 1 car, 23.7ms\n",
      "video 1/1 (162/448) C:\\Users\\hamza\\OneDrive\\Desktop\\Jupyter_programs\\yolo_tracking_for_counting\\dataset_2\\kech46.mp4: 640x512 1 car, 33.4ms\n",
      "video 1/1 (163/448) C:\\Users\\hamza\\OneDrive\\Desktop\\Jupyter_programs\\yolo_tracking_for_counting\\dataset_2\\kech46.mp4: 640x512 1 car, 19.9ms\n",
      "video 1/1 (164/448) C:\\Users\\hamza\\OneDrive\\Desktop\\Jupyter_programs\\yolo_tracking_for_counting\\dataset_2\\kech46.mp4: 640x512 1 car, 24.0ms\n",
      "video 1/1 (165/448) C:\\Users\\hamza\\OneDrive\\Desktop\\Jupyter_programs\\yolo_tracking_for_counting\\dataset_2\\kech46.mp4: 640x512 1 car, 24.2ms\n",
      "video 1/1 (166/448) C:\\Users\\hamza\\OneDrive\\Desktop\\Jupyter_programs\\yolo_tracking_for_counting\\dataset_2\\kech46.mp4: 640x512 1 car, 20.8ms\n",
      "video 1/1 (167/448) C:\\Users\\hamza\\OneDrive\\Desktop\\Jupyter_programs\\yolo_tracking_for_counting\\dataset_2\\kech46.mp4: 640x512 2 cars, 25.5ms\n",
      "video 1/1 (168/448) C:\\Users\\hamza\\OneDrive\\Desktop\\Jupyter_programs\\yolo_tracking_for_counting\\dataset_2\\kech46.mp4: 640x512 2 cars, 24.1ms\n",
      "video 1/1 (169/448) C:\\Users\\hamza\\OneDrive\\Desktop\\Jupyter_programs\\yolo_tracking_for_counting\\dataset_2\\kech46.mp4: 640x512 2 cars, 34.1ms\n",
      "video 1/1 (170/448) C:\\Users\\hamza\\OneDrive\\Desktop\\Jupyter_programs\\yolo_tracking_for_counting\\dataset_2\\kech46.mp4: 640x512 2 cars, 18.0ms\n",
      "video 1/1 (171/448) C:\\Users\\hamza\\OneDrive\\Desktop\\Jupyter_programs\\yolo_tracking_for_counting\\dataset_2\\kech46.mp4: 640x512 2 cars, 21.2ms\n",
      "video 1/1 (172/448) C:\\Users\\hamza\\OneDrive\\Desktop\\Jupyter_programs\\yolo_tracking_for_counting\\dataset_2\\kech46.mp4: 640x512 1 car, 24.6ms\n",
      "video 1/1 (173/448) C:\\Users\\hamza\\OneDrive\\Desktop\\Jupyter_programs\\yolo_tracking_for_counting\\dataset_2\\kech46.mp4: 640x512 1 car, 24.7ms\n",
      "video 1/1 (174/448) C:\\Users\\hamza\\OneDrive\\Desktop\\Jupyter_programs\\yolo_tracking_for_counting\\dataset_2\\kech46.mp4: 640x512 2 cars, 23.3ms\n",
      "video 1/1 (175/448) C:\\Users\\hamza\\OneDrive\\Desktop\\Jupyter_programs\\yolo_tracking_for_counting\\dataset_2\\kech46.mp4: 640x512 2 cars, 24.8ms\n",
      "video 1/1 (176/448) C:\\Users\\hamza\\OneDrive\\Desktop\\Jupyter_programs\\yolo_tracking_for_counting\\dataset_2\\kech46.mp4: 640x512 2 cars, 24.3ms\n",
      "video 1/1 (177/448) C:\\Users\\hamza\\OneDrive\\Desktop\\Jupyter_programs\\yolo_tracking_for_counting\\dataset_2\\kech46.mp4: 640x512 2 cars, 24.0ms\n",
      "video 1/1 (178/448) C:\\Users\\hamza\\OneDrive\\Desktop\\Jupyter_programs\\yolo_tracking_for_counting\\dataset_2\\kech46.mp4: 640x512 2 cars, 27.4ms\n",
      "video 1/1 (179/448) C:\\Users\\hamza\\OneDrive\\Desktop\\Jupyter_programs\\yolo_tracking_for_counting\\dataset_2\\kech46.mp4: 640x512 2 cars, 24.9ms\n",
      "video 1/1 (180/448) C:\\Users\\hamza\\OneDrive\\Desktop\\Jupyter_programs\\yolo_tracking_for_counting\\dataset_2\\kech46.mp4: 640x512 2 cars, 24.0ms\n",
      "video 1/1 (181/448) C:\\Users\\hamza\\OneDrive\\Desktop\\Jupyter_programs\\yolo_tracking_for_counting\\dataset_2\\kech46.mp4: 640x512 2 cars, 15.2ms\n",
      "video 1/1 (182/448) C:\\Users\\hamza\\OneDrive\\Desktop\\Jupyter_programs\\yolo_tracking_for_counting\\dataset_2\\kech46.mp4: 640x512 2 cars, 22.5ms\n",
      "video 1/1 (183/448) C:\\Users\\hamza\\OneDrive\\Desktop\\Jupyter_programs\\yolo_tracking_for_counting\\dataset_2\\kech46.mp4: 640x512 2 cars, 25.4ms\n",
      "video 1/1 (184/448) C:\\Users\\hamza\\OneDrive\\Desktop\\Jupyter_programs\\yolo_tracking_for_counting\\dataset_2\\kech46.mp4: 640x512 2 cars, 21.2ms\n",
      "video 1/1 (185/448) C:\\Users\\hamza\\OneDrive\\Desktop\\Jupyter_programs\\yolo_tracking_for_counting\\dataset_2\\kech46.mp4: 640x512 2 cars, 15.9ms\n",
      "video 1/1 (186/448) C:\\Users\\hamza\\OneDrive\\Desktop\\Jupyter_programs\\yolo_tracking_for_counting\\dataset_2\\kech46.mp4: 640x512 2 cars, 20.8ms\n",
      "video 1/1 (187/448) C:\\Users\\hamza\\OneDrive\\Desktop\\Jupyter_programs\\yolo_tracking_for_counting\\dataset_2\\kech46.mp4: 640x512 2 cars, 22.2ms\n",
      "video 1/1 (188/448) C:\\Users\\hamza\\OneDrive\\Desktop\\Jupyter_programs\\yolo_tracking_for_counting\\dataset_2\\kech46.mp4: 640x512 1 car, 21.5ms\n",
      "video 1/1 (189/448) C:\\Users\\hamza\\OneDrive\\Desktop\\Jupyter_programs\\yolo_tracking_for_counting\\dataset_2\\kech46.mp4: 640x512 2 cars, 20.9ms\n",
      "video 1/1 (190/448) C:\\Users\\hamza\\OneDrive\\Desktop\\Jupyter_programs\\yolo_tracking_for_counting\\dataset_2\\kech46.mp4: 640x512 2 cars, 15.8ms\n",
      "video 1/1 (191/448) C:\\Users\\hamza\\OneDrive\\Desktop\\Jupyter_programs\\yolo_tracking_for_counting\\dataset_2\\kech46.mp4: 640x512 2 cars, 20.9ms\n",
      "video 1/1 (192/448) C:\\Users\\hamza\\OneDrive\\Desktop\\Jupyter_programs\\yolo_tracking_for_counting\\dataset_2\\kech46.mp4: 640x512 2 cars, 16.7ms\n",
      "video 1/1 (193/448) C:\\Users\\hamza\\OneDrive\\Desktop\\Jupyter_programs\\yolo_tracking_for_counting\\dataset_2\\kech46.mp4: 640x512 1 car, 22.5ms\n",
      "video 1/1 (194/448) C:\\Users\\hamza\\OneDrive\\Desktop\\Jupyter_programs\\yolo_tracking_for_counting\\dataset_2\\kech46.mp4: 640x512 2 cars, 22.4ms\n",
      "video 1/1 (195/448) C:\\Users\\hamza\\OneDrive\\Desktop\\Jupyter_programs\\yolo_tracking_for_counting\\dataset_2\\kech46.mp4: 640x512 2 cars, 16.1ms\n",
      "video 1/1 (196/448) C:\\Users\\hamza\\OneDrive\\Desktop\\Jupyter_programs\\yolo_tracking_for_counting\\dataset_2\\kech46.mp4: 640x512 1 car, 20.5ms\n",
      "video 1/1 (197/448) C:\\Users\\hamza\\OneDrive\\Desktop\\Jupyter_programs\\yolo_tracking_for_counting\\dataset_2\\kech46.mp4: 640x512 1 car, 39.5ms\n",
      "video 1/1 (198/448) C:\\Users\\hamza\\OneDrive\\Desktop\\Jupyter_programs\\yolo_tracking_for_counting\\dataset_2\\kech46.mp4: 640x512 1 car, 20.3ms\n",
      "video 1/1 (199/448) C:\\Users\\hamza\\OneDrive\\Desktop\\Jupyter_programs\\yolo_tracking_for_counting\\dataset_2\\kech46.mp4: 640x512 1 car, 24.5ms\n",
      "video 1/1 (200/448) C:\\Users\\hamza\\OneDrive\\Desktop\\Jupyter_programs\\yolo_tracking_for_counting\\dataset_2\\kech46.mp4: 640x512 1 car, 20.9ms\n",
      "video 1/1 (201/448) C:\\Users\\hamza\\OneDrive\\Desktop\\Jupyter_programs\\yolo_tracking_for_counting\\dataset_2\\kech46.mp4: 640x512 1 car, 29.5ms\n",
      "video 1/1 (202/448) C:\\Users\\hamza\\OneDrive\\Desktop\\Jupyter_programs\\yolo_tracking_for_counting\\dataset_2\\kech46.mp4: 640x512 1 car, 28.3ms\n",
      "video 1/1 (203/448) C:\\Users\\hamza\\OneDrive\\Desktop\\Jupyter_programs\\yolo_tracking_for_counting\\dataset_2\\kech46.mp4: 640x512 1 car, 25.1ms\n",
      "video 1/1 (204/448) C:\\Users\\hamza\\OneDrive\\Desktop\\Jupyter_programs\\yolo_tracking_for_counting\\dataset_2\\kech46.mp4: 640x512 1 car, 21.6ms\n",
      "video 1/1 (205/448) C:\\Users\\hamza\\OneDrive\\Desktop\\Jupyter_programs\\yolo_tracking_for_counting\\dataset_2\\kech46.mp4: 640x512 1 car, 22.0ms\n",
      "video 1/1 (206/448) C:\\Users\\hamza\\OneDrive\\Desktop\\Jupyter_programs\\yolo_tracking_for_counting\\dataset_2\\kech46.mp4: 640x512 1 car, 15.7ms\n",
      "video 1/1 (207/448) C:\\Users\\hamza\\OneDrive\\Desktop\\Jupyter_programs\\yolo_tracking_for_counting\\dataset_2\\kech46.mp4: 640x512 1 car, 23.0ms\n",
      "video 1/1 (208/448) C:\\Users\\hamza\\OneDrive\\Desktop\\Jupyter_programs\\yolo_tracking_for_counting\\dataset_2\\kech46.mp4: 640x512 1 car, 17.9ms\n",
      "video 1/1 (209/448) C:\\Users\\hamza\\OneDrive\\Desktop\\Jupyter_programs\\yolo_tracking_for_counting\\dataset_2\\kech46.mp4: 640x512 1 car, 20.6ms\n",
      "video 1/1 (210/448) C:\\Users\\hamza\\OneDrive\\Desktop\\Jupyter_programs\\yolo_tracking_for_counting\\dataset_2\\kech46.mp4: 640x512 1 car, 24.4ms\n",
      "video 1/1 (211/448) C:\\Users\\hamza\\OneDrive\\Desktop\\Jupyter_programs\\yolo_tracking_for_counting\\dataset_2\\kech46.mp4: 640x512 1 car, 101.1ms\n",
      "video 1/1 (212/448) C:\\Users\\hamza\\OneDrive\\Desktop\\Jupyter_programs\\yolo_tracking_for_counting\\dataset_2\\kech46.mp4: 640x512 1 car, 109.7ms\n",
      "video 1/1 (213/448) C:\\Users\\hamza\\OneDrive\\Desktop\\Jupyter_programs\\yolo_tracking_for_counting\\dataset_2\\kech46.mp4: 640x512 1 car, 24.2ms\n",
      "video 1/1 (214/448) C:\\Users\\hamza\\OneDrive\\Desktop\\Jupyter_programs\\yolo_tracking_for_counting\\dataset_2\\kech46.mp4: 640x512 1 car, 23.9ms\n",
      "video 1/1 (215/448) C:\\Users\\hamza\\OneDrive\\Desktop\\Jupyter_programs\\yolo_tracking_for_counting\\dataset_2\\kech46.mp4: 640x512 1 car, 24.7ms\n",
      "video 1/1 (216/448) C:\\Users\\hamza\\OneDrive\\Desktop\\Jupyter_programs\\yolo_tracking_for_counting\\dataset_2\\kech46.mp4: 640x512 1 car, 24.1ms\n",
      "video 1/1 (217/448) C:\\Users\\hamza\\OneDrive\\Desktop\\Jupyter_programs\\yolo_tracking_for_counting\\dataset_2\\kech46.mp4: 640x512 2 cars, 25.5ms\n",
      "video 1/1 (218/448) C:\\Users\\hamza\\OneDrive\\Desktop\\Jupyter_programs\\yolo_tracking_for_counting\\dataset_2\\kech46.mp4: 640x512 1 car, 25.3ms\n",
      "video 1/1 (219/448) C:\\Users\\hamza\\OneDrive\\Desktop\\Jupyter_programs\\yolo_tracking_for_counting\\dataset_2\\kech46.mp4: 640x512 1 car, 24.7ms\n",
      "video 1/1 (220/448) C:\\Users\\hamza\\OneDrive\\Desktop\\Jupyter_programs\\yolo_tracking_for_counting\\dataset_2\\kech46.mp4: 640x512 2 cars, 25.0ms\n",
      "video 1/1 (221/448) C:\\Users\\hamza\\OneDrive\\Desktop\\Jupyter_programs\\yolo_tracking_for_counting\\dataset_2\\kech46.mp4: 640x512 1 car, 24.2ms\n",
      "video 1/1 (222/448) C:\\Users\\hamza\\OneDrive\\Desktop\\Jupyter_programs\\yolo_tracking_for_counting\\dataset_2\\kech46.mp4: 640x512 2 cars, 20.7ms\n",
      "video 1/1 (223/448) C:\\Users\\hamza\\OneDrive\\Desktop\\Jupyter_programs\\yolo_tracking_for_counting\\dataset_2\\kech46.mp4: 640x512 2 cars, 24.5ms\n",
      "video 1/1 (224/448) C:\\Users\\hamza\\OneDrive\\Desktop\\Jupyter_programs\\yolo_tracking_for_counting\\dataset_2\\kech46.mp4: 640x512 1 car, 32.0ms\n",
      "video 1/1 (225/448) C:\\Users\\hamza\\OneDrive\\Desktop\\Jupyter_programs\\yolo_tracking_for_counting\\dataset_2\\kech46.mp4: 640x512 2 cars, 23.5ms\n",
      "video 1/1 (226/448) C:\\Users\\hamza\\OneDrive\\Desktop\\Jupyter_programs\\yolo_tracking_for_counting\\dataset_2\\kech46.mp4: 640x512 2 cars, 23.9ms\n",
      "video 1/1 (227/448) C:\\Users\\hamza\\OneDrive\\Desktop\\Jupyter_programs\\yolo_tracking_for_counting\\dataset_2\\kech46.mp4: 640x512 2 cars, 25.5ms\n",
      "video 1/1 (228/448) C:\\Users\\hamza\\OneDrive\\Desktop\\Jupyter_programs\\yolo_tracking_for_counting\\dataset_2\\kech46.mp4: 640x512 2 cars, 24.5ms\n",
      "video 1/1 (229/448) C:\\Users\\hamza\\OneDrive\\Desktop\\Jupyter_programs\\yolo_tracking_for_counting\\dataset_2\\kech46.mp4: 640x512 2 cars, 25.2ms\n",
      "video 1/1 (230/448) C:\\Users\\hamza\\OneDrive\\Desktop\\Jupyter_programs\\yolo_tracking_for_counting\\dataset_2\\kech46.mp4: 640x512 2 cars, 20.5ms\n",
      "video 1/1 (231/448) C:\\Users\\hamza\\OneDrive\\Desktop\\Jupyter_programs\\yolo_tracking_for_counting\\dataset_2\\kech46.mp4: 640x512 2 cars, 24.1ms\n",
      "video 1/1 (232/448) C:\\Users\\hamza\\OneDrive\\Desktop\\Jupyter_programs\\yolo_tracking_for_counting\\dataset_2\\kech46.mp4: 640x512 2 cars, 24.0ms\n",
      "video 1/1 (233/448) C:\\Users\\hamza\\OneDrive\\Desktop\\Jupyter_programs\\yolo_tracking_for_counting\\dataset_2\\kech46.mp4: 640x512 1 car, 25.1ms\n",
      "video 1/1 (234/448) C:\\Users\\hamza\\OneDrive\\Desktop\\Jupyter_programs\\yolo_tracking_for_counting\\dataset_2\\kech46.mp4: 640x512 1 car, 23.5ms\n",
      "video 1/1 (235/448) C:\\Users\\hamza\\OneDrive\\Desktop\\Jupyter_programs\\yolo_tracking_for_counting\\dataset_2\\kech46.mp4: 640x512 1 car, 21.5ms\n",
      "video 1/1 (236/448) C:\\Users\\hamza\\OneDrive\\Desktop\\Jupyter_programs\\yolo_tracking_for_counting\\dataset_2\\kech46.mp4: 640x512 1 car, 30.7ms\n",
      "video 1/1 (237/448) C:\\Users\\hamza\\OneDrive\\Desktop\\Jupyter_programs\\yolo_tracking_for_counting\\dataset_2\\kech46.mp4: 640x512 1 car, 1 bus, 24.8ms\n",
      "video 1/1 (238/448) C:\\Users\\hamza\\OneDrive\\Desktop\\Jupyter_programs\\yolo_tracking_for_counting\\dataset_2\\kech46.mp4: 640x512 1 car, 25.2ms\n",
      "video 1/1 (239/448) C:\\Users\\hamza\\OneDrive\\Desktop\\Jupyter_programs\\yolo_tracking_for_counting\\dataset_2\\kech46.mp4: 640x512 1 car, 25.4ms\n",
      "video 1/1 (240/448) C:\\Users\\hamza\\OneDrive\\Desktop\\Jupyter_programs\\yolo_tracking_for_counting\\dataset_2\\kech46.mp4: 640x512 1 car, 21.2ms\n",
      "video 1/1 (241/448) C:\\Users\\hamza\\OneDrive\\Desktop\\Jupyter_programs\\yolo_tracking_for_counting\\dataset_2\\kech46.mp4: 640x512 1 car, 24.5ms\n",
      "video 1/1 (242/448) C:\\Users\\hamza\\OneDrive\\Desktop\\Jupyter_programs\\yolo_tracking_for_counting\\dataset_2\\kech46.mp4: 640x512 1 car, 23.9ms\n",
      "video 1/1 (243/448) C:\\Users\\hamza\\OneDrive\\Desktop\\Jupyter_programs\\yolo_tracking_for_counting\\dataset_2\\kech46.mp4: 640x512 3 cars, 24.4ms\n",
      "video 1/1 (244/448) C:\\Users\\hamza\\OneDrive\\Desktop\\Jupyter_programs\\yolo_tracking_for_counting\\dataset_2\\kech46.mp4: 640x512 3 cars, 25.7ms\n",
      "video 1/1 (245/448) C:\\Users\\hamza\\OneDrive\\Desktop\\Jupyter_programs\\yolo_tracking_for_counting\\dataset_2\\kech46.mp4: 640x512 2 cars, 24.2ms\n",
      "video 1/1 (246/448) C:\\Users\\hamza\\OneDrive\\Desktop\\Jupyter_programs\\yolo_tracking_for_counting\\dataset_2\\kech46.mp4: 640x512 2 cars, 24.7ms\n",
      "video 1/1 (247/448) C:\\Users\\hamza\\OneDrive\\Desktop\\Jupyter_programs\\yolo_tracking_for_counting\\dataset_2\\kech46.mp4: 640x512 2 cars, 24.9ms\n",
      "video 1/1 (248/448) C:\\Users\\hamza\\OneDrive\\Desktop\\Jupyter_programs\\yolo_tracking_for_counting\\dataset_2\\kech46.mp4: 640x512 3 cars, 23.5ms\n",
      "video 1/1 (249/448) C:\\Users\\hamza\\OneDrive\\Desktop\\Jupyter_programs\\yolo_tracking_for_counting\\dataset_2\\kech46.mp4: 640x512 3 cars, 30.4ms\n",
      "video 1/1 (250/448) C:\\Users\\hamza\\OneDrive\\Desktop\\Jupyter_programs\\yolo_tracking_for_counting\\dataset_2\\kech46.mp4: 640x512 2 cars, 24.6ms\n",
      "video 1/1 (251/448) C:\\Users\\hamza\\OneDrive\\Desktop\\Jupyter_programs\\yolo_tracking_for_counting\\dataset_2\\kech46.mp4: 640x512 3 cars, 17.0ms\n",
      "video 1/1 (252/448) C:\\Users\\hamza\\OneDrive\\Desktop\\Jupyter_programs\\yolo_tracking_for_counting\\dataset_2\\kech46.mp4: 640x512 2 cars, 30.6ms\n",
      "video 1/1 (253/448) C:\\Users\\hamza\\OneDrive\\Desktop\\Jupyter_programs\\yolo_tracking_for_counting\\dataset_2\\kech46.mp4: 640x512 2 cars, 15.5ms\n",
      "video 1/1 (254/448) C:\\Users\\hamza\\OneDrive\\Desktop\\Jupyter_programs\\yolo_tracking_for_counting\\dataset_2\\kech46.mp4: 640x512 2 cars, 27.1ms\n",
      "video 1/1 (255/448) C:\\Users\\hamza\\OneDrive\\Desktop\\Jupyter_programs\\yolo_tracking_for_counting\\dataset_2\\kech46.mp4: 640x512 2 cars, 24.3ms\n",
      "video 1/1 (256/448) C:\\Users\\hamza\\OneDrive\\Desktop\\Jupyter_programs\\yolo_tracking_for_counting\\dataset_2\\kech46.mp4: 640x512 2 cars, 27.5ms\n",
      "video 1/1 (257/448) C:\\Users\\hamza\\OneDrive\\Desktop\\Jupyter_programs\\yolo_tracking_for_counting\\dataset_2\\kech46.mp4: 640x512 2 cars, 24.8ms\n",
      "video 1/1 (258/448) C:\\Users\\hamza\\OneDrive\\Desktop\\Jupyter_programs\\yolo_tracking_for_counting\\dataset_2\\kech46.mp4: 640x512 2 cars, 28.0ms\n",
      "video 1/1 (259/448) C:\\Users\\hamza\\OneDrive\\Desktop\\Jupyter_programs\\yolo_tracking_for_counting\\dataset_2\\kech46.mp4: 640x512 2 cars, 21.7ms\n",
      "video 1/1 (260/448) C:\\Users\\hamza\\OneDrive\\Desktop\\Jupyter_programs\\yolo_tracking_for_counting\\dataset_2\\kech46.mp4: 640x512 2 cars, 16.9ms\n",
      "video 1/1 (261/448) C:\\Users\\hamza\\OneDrive\\Desktop\\Jupyter_programs\\yolo_tracking_for_counting\\dataset_2\\kech46.mp4: 640x512 2 cars, 27.0ms\n",
      "video 1/1 (262/448) C:\\Users\\hamza\\OneDrive\\Desktop\\Jupyter_programs\\yolo_tracking_for_counting\\dataset_2\\kech46.mp4: 640x512 2 cars, 15.1ms\n",
      "video 1/1 (263/448) C:\\Users\\hamza\\OneDrive\\Desktop\\Jupyter_programs\\yolo_tracking_for_counting\\dataset_2\\kech46.mp4: 640x512 2 cars, 21.6ms\n",
      "video 1/1 (264/448) C:\\Users\\hamza\\OneDrive\\Desktop\\Jupyter_programs\\yolo_tracking_for_counting\\dataset_2\\kech46.mp4: 640x512 2 cars, 24.1ms\n",
      "video 1/1 (265/448) C:\\Users\\hamza\\OneDrive\\Desktop\\Jupyter_programs\\yolo_tracking_for_counting\\dataset_2\\kech46.mp4: 640x512 2 cars, 29.8ms\n",
      "video 1/1 (266/448) C:\\Users\\hamza\\OneDrive\\Desktop\\Jupyter_programs\\yolo_tracking_for_counting\\dataset_2\\kech46.mp4: 640x512 2 cars, 15.5ms\n",
      "video 1/1 (267/448) C:\\Users\\hamza\\OneDrive\\Desktop\\Jupyter_programs\\yolo_tracking_for_counting\\dataset_2\\kech46.mp4: 640x512 2 cars, 16.5ms\n",
      "video 1/1 (268/448) C:\\Users\\hamza\\OneDrive\\Desktop\\Jupyter_programs\\yolo_tracking_for_counting\\dataset_2\\kech46.mp4: 640x512 2 cars, 15.6ms\n",
      "video 1/1 (269/448) C:\\Users\\hamza\\OneDrive\\Desktop\\Jupyter_programs\\yolo_tracking_for_counting\\dataset_2\\kech46.mp4: 640x512 2 cars, 31.2ms\n",
      "video 1/1 (270/448) C:\\Users\\hamza\\OneDrive\\Desktop\\Jupyter_programs\\yolo_tracking_for_counting\\dataset_2\\kech46.mp4: 640x512 2 cars, 15.6ms\n",
      "video 1/1 (271/448) C:\\Users\\hamza\\OneDrive\\Desktop\\Jupyter_programs\\yolo_tracking_for_counting\\dataset_2\\kech46.mp4: 640x512 2 cars, 31.2ms\n",
      "video 1/1 (272/448) C:\\Users\\hamza\\OneDrive\\Desktop\\Jupyter_programs\\yolo_tracking_for_counting\\dataset_2\\kech46.mp4: 640x512 2 cars, 15.6ms\n",
      "video 1/1 (273/448) C:\\Users\\hamza\\OneDrive\\Desktop\\Jupyter_programs\\yolo_tracking_for_counting\\dataset_2\\kech46.mp4: 640x512 2 cars, 15.6ms\n",
      "video 1/1 (274/448) C:\\Users\\hamza\\OneDrive\\Desktop\\Jupyter_programs\\yolo_tracking_for_counting\\dataset_2\\kech46.mp4: 640x512 2 cars, 31.3ms\n",
      "video 1/1 (275/448) C:\\Users\\hamza\\OneDrive\\Desktop\\Jupyter_programs\\yolo_tracking_for_counting\\dataset_2\\kech46.mp4: 640x512 2 cars, 15.6ms\n",
      "video 1/1 (276/448) C:\\Users\\hamza\\OneDrive\\Desktop\\Jupyter_programs\\yolo_tracking_for_counting\\dataset_2\\kech46.mp4: 640x512 1 car, 31.3ms\n",
      "video 1/1 (277/448) C:\\Users\\hamza\\OneDrive\\Desktop\\Jupyter_programs\\yolo_tracking_for_counting\\dataset_2\\kech46.mp4: 640x512 2 cars, 15.6ms\n",
      "video 1/1 (278/448) C:\\Users\\hamza\\OneDrive\\Desktop\\Jupyter_programs\\yolo_tracking_for_counting\\dataset_2\\kech46.mp4: 640x512 1 car, 31.3ms\n",
      "video 1/1 (279/448) C:\\Users\\hamza\\OneDrive\\Desktop\\Jupyter_programs\\yolo_tracking_for_counting\\dataset_2\\kech46.mp4: 640x512 1 car, 31.3ms\n",
      "video 1/1 (280/448) C:\\Users\\hamza\\OneDrive\\Desktop\\Jupyter_programs\\yolo_tracking_for_counting\\dataset_2\\kech46.mp4: 640x512 1 car, 31.2ms\n",
      "video 1/1 (281/448) C:\\Users\\hamza\\OneDrive\\Desktop\\Jupyter_programs\\yolo_tracking_for_counting\\dataset_2\\kech46.mp4: 640x512 1 car, 31.3ms\n",
      "video 1/1 (282/448) C:\\Users\\hamza\\OneDrive\\Desktop\\Jupyter_programs\\yolo_tracking_for_counting\\dataset_2\\kech46.mp4: 640x512 1 car, 15.6ms\n",
      "video 1/1 (283/448) C:\\Users\\hamza\\OneDrive\\Desktop\\Jupyter_programs\\yolo_tracking_for_counting\\dataset_2\\kech46.mp4: 640x512 1 car, 31.3ms\n",
      "video 1/1 (284/448) C:\\Users\\hamza\\OneDrive\\Desktop\\Jupyter_programs\\yolo_tracking_for_counting\\dataset_2\\kech46.mp4: 640x512 1 car, 24.6ms\n",
      "video 1/1 (285/448) C:\\Users\\hamza\\OneDrive\\Desktop\\Jupyter_programs\\yolo_tracking_for_counting\\dataset_2\\kech46.mp4: 640x512 1 car, 1 motorcycle, 24.0ms\n",
      "video 1/1 (286/448) C:\\Users\\hamza\\OneDrive\\Desktop\\Jupyter_programs\\yolo_tracking_for_counting\\dataset_2\\kech46.mp4: 640x512 1 car, 24.7ms\n",
      "video 1/1 (287/448) C:\\Users\\hamza\\OneDrive\\Desktop\\Jupyter_programs\\yolo_tracking_for_counting\\dataset_2\\kech46.mp4: 640x512 1 car, 31.4ms\n",
      "video 1/1 (288/448) C:\\Users\\hamza\\OneDrive\\Desktop\\Jupyter_programs\\yolo_tracking_for_counting\\dataset_2\\kech46.mp4: 640x512 1 car, 15.2ms\n",
      "video 1/1 (289/448) C:\\Users\\hamza\\OneDrive\\Desktop\\Jupyter_programs\\yolo_tracking_for_counting\\dataset_2\\kech46.mp4: 640x512 1 car, 31.3ms\n",
      "video 1/1 (290/448) C:\\Users\\hamza\\OneDrive\\Desktop\\Jupyter_programs\\yolo_tracking_for_counting\\dataset_2\\kech46.mp4: 640x512 1 car, 31.2ms\n",
      "video 1/1 (291/448) C:\\Users\\hamza\\OneDrive\\Desktop\\Jupyter_programs\\yolo_tracking_for_counting\\dataset_2\\kech46.mp4: 640x512 1 car, 16.2ms\n",
      "video 1/1 (292/448) C:\\Users\\hamza\\OneDrive\\Desktop\\Jupyter_programs\\yolo_tracking_for_counting\\dataset_2\\kech46.mp4: 640x512 1 car, 24.7ms\n",
      "video 1/1 (293/448) C:\\Users\\hamza\\OneDrive\\Desktop\\Jupyter_programs\\yolo_tracking_for_counting\\dataset_2\\kech46.mp4: 640x512 1 car, 24.7ms\n",
      "video 1/1 (294/448) C:\\Users\\hamza\\OneDrive\\Desktop\\Jupyter_programs\\yolo_tracking_for_counting\\dataset_2\\kech46.mp4: 640x512 1 car, 1 motorcycle, 25.0ms\n",
      "video 1/1 (295/448) C:\\Users\\hamza\\OneDrive\\Desktop\\Jupyter_programs\\yolo_tracking_for_counting\\dataset_2\\kech46.mp4: 640x512 1 car, 24.9ms\n",
      "video 1/1 (296/448) C:\\Users\\hamza\\OneDrive\\Desktop\\Jupyter_programs\\yolo_tracking_for_counting\\dataset_2\\kech46.mp4: 640x512 1 car, 1 motorcycle, 15.6ms\n",
      "video 1/1 (297/448) C:\\Users\\hamza\\OneDrive\\Desktop\\Jupyter_programs\\yolo_tracking_for_counting\\dataset_2\\kech46.mp4: 640x512 1 car, 22.9ms\n",
      "video 1/1 (298/448) C:\\Users\\hamza\\OneDrive\\Desktop\\Jupyter_programs\\yolo_tracking_for_counting\\dataset_2\\kech46.mp4: 640x512 1 car, 24.5ms\n",
      "video 1/1 (299/448) C:\\Users\\hamza\\OneDrive\\Desktop\\Jupyter_programs\\yolo_tracking_for_counting\\dataset_2\\kech46.mp4: 640x512 1 car, 21.6ms\n",
      "video 1/1 (300/448) C:\\Users\\hamza\\OneDrive\\Desktop\\Jupyter_programs\\yolo_tracking_for_counting\\dataset_2\\kech46.mp4: 640x512 2 cars, 1 motorcycle, 24.0ms\n",
      "video 1/1 (301/448) C:\\Users\\hamza\\OneDrive\\Desktop\\Jupyter_programs\\yolo_tracking_for_counting\\dataset_2\\kech46.mp4: 640x512 2 cars, 21.9ms\n",
      "video 1/1 (302/448) C:\\Users\\hamza\\OneDrive\\Desktop\\Jupyter_programs\\yolo_tracking_for_counting\\dataset_2\\kech46.mp4: 640x512 2 cars, 31.1ms\n",
      "video 1/1 (303/448) C:\\Users\\hamza\\OneDrive\\Desktop\\Jupyter_programs\\yolo_tracking_for_counting\\dataset_2\\kech46.mp4: 640x512 1 car, 15.6ms\n",
      "video 1/1 (304/448) C:\\Users\\hamza\\OneDrive\\Desktop\\Jupyter_programs\\yolo_tracking_for_counting\\dataset_2\\kech46.mp4: 640x512 1 car, 31.2ms\n",
      "video 1/1 (305/448) C:\\Users\\hamza\\OneDrive\\Desktop\\Jupyter_programs\\yolo_tracking_for_counting\\dataset_2\\kech46.mp4: 640x512 2 cars, 15.6ms\n",
      "video 1/1 (306/448) C:\\Users\\hamza\\OneDrive\\Desktop\\Jupyter_programs\\yolo_tracking_for_counting\\dataset_2\\kech46.mp4: 640x512 1 car, 15.7ms\n",
      "video 1/1 (307/448) C:\\Users\\hamza\\OneDrive\\Desktop\\Jupyter_programs\\yolo_tracking_for_counting\\dataset_2\\kech46.mp4: 640x512 1 car, 31.3ms\n",
      "video 1/1 (308/448) C:\\Users\\hamza\\OneDrive\\Desktop\\Jupyter_programs\\yolo_tracking_for_counting\\dataset_2\\kech46.mp4: 640x512 (no detections), 32.0ms\n",
      "video 1/1 (309/448) C:\\Users\\hamza\\OneDrive\\Desktop\\Jupyter_programs\\yolo_tracking_for_counting\\dataset_2\\kech46.mp4: 640x512 (no detections), 31.2ms\n",
      "video 1/1 (310/448) C:\\Users\\hamza\\OneDrive\\Desktop\\Jupyter_programs\\yolo_tracking_for_counting\\dataset_2\\kech46.mp4: 640x512 (no detections), 31.3ms\n",
      "video 1/1 (311/448) C:\\Users\\hamza\\OneDrive\\Desktop\\Jupyter_programs\\yolo_tracking_for_counting\\dataset_2\\kech46.mp4: 640x512 (no detections), 31.3ms\n",
      "video 1/1 (312/448) C:\\Users\\hamza\\OneDrive\\Desktop\\Jupyter_programs\\yolo_tracking_for_counting\\dataset_2\\kech46.mp4: 640x512 1 car, 28.4ms\n",
      "video 1/1 (313/448) C:\\Users\\hamza\\OneDrive\\Desktop\\Jupyter_programs\\yolo_tracking_for_counting\\dataset_2\\kech46.mp4: 640x512 (no detections), 15.6ms\n",
      "video 1/1 (314/448) C:\\Users\\hamza\\OneDrive\\Desktop\\Jupyter_programs\\yolo_tracking_for_counting\\dataset_2\\kech46.mp4: 640x512 1 car, 15.7ms\n",
      "video 1/1 (315/448) C:\\Users\\hamza\\OneDrive\\Desktop\\Jupyter_programs\\yolo_tracking_for_counting\\dataset_2\\kech46.mp4: 640x512 1 car, 15.7ms\n",
      "video 1/1 (316/448) C:\\Users\\hamza\\OneDrive\\Desktop\\Jupyter_programs\\yolo_tracking_for_counting\\dataset_2\\kech46.mp4: 640x512 1 car, 31.2ms\n",
      "video 1/1 (317/448) C:\\Users\\hamza\\OneDrive\\Desktop\\Jupyter_programs\\yolo_tracking_for_counting\\dataset_2\\kech46.mp4: 640x512 1 car, 31.3ms\n",
      "video 1/1 (318/448) C:\\Users\\hamza\\OneDrive\\Desktop\\Jupyter_programs\\yolo_tracking_for_counting\\dataset_2\\kech46.mp4: 640x512 2 cars, 31.2ms\n",
      "video 1/1 (319/448) C:\\Users\\hamza\\OneDrive\\Desktop\\Jupyter_programs\\yolo_tracking_for_counting\\dataset_2\\kech46.mp4: 640x512 2 cars, 15.6ms\n",
      "video 1/1 (320/448) C:\\Users\\hamza\\OneDrive\\Desktop\\Jupyter_programs\\yolo_tracking_for_counting\\dataset_2\\kech46.mp4: 640x512 2 cars, 24.7ms\n",
      "video 1/1 (321/448) C:\\Users\\hamza\\OneDrive\\Desktop\\Jupyter_programs\\yolo_tracking_for_counting\\dataset_2\\kech46.mp4: 640x512 2 cars, 23.9ms\n",
      "video 1/1 (322/448) C:\\Users\\hamza\\OneDrive\\Desktop\\Jupyter_programs\\yolo_tracking_for_counting\\dataset_2\\kech46.mp4: 640x512 2 cars, 33.0ms\n",
      "video 1/1 (323/448) C:\\Users\\hamza\\OneDrive\\Desktop\\Jupyter_programs\\yolo_tracking_for_counting\\dataset_2\\kech46.mp4: 640x512 2 cars, 24.6ms\n",
      "video 1/1 (324/448) C:\\Users\\hamza\\OneDrive\\Desktop\\Jupyter_programs\\yolo_tracking_for_counting\\dataset_2\\kech46.mp4: 640x512 1 car, 30.4ms\n",
      "video 1/1 (325/448) C:\\Users\\hamza\\OneDrive\\Desktop\\Jupyter_programs\\yolo_tracking_for_counting\\dataset_2\\kech46.mp4: 640x512 1 car, 15.7ms\n",
      "video 1/1 (326/448) C:\\Users\\hamza\\OneDrive\\Desktop\\Jupyter_programs\\yolo_tracking_for_counting\\dataset_2\\kech46.mp4: 640x512 1 car, 26.4ms\n",
      "video 1/1 (327/448) C:\\Users\\hamza\\OneDrive\\Desktop\\Jupyter_programs\\yolo_tracking_for_counting\\dataset_2\\kech46.mp4: 640x512 1 car, 24.5ms\n",
      "video 1/1 (328/448) C:\\Users\\hamza\\OneDrive\\Desktop\\Jupyter_programs\\yolo_tracking_for_counting\\dataset_2\\kech46.mp4: 640x512 1 car, 13.1ms\n",
      "video 1/1 (329/448) C:\\Users\\hamza\\OneDrive\\Desktop\\Jupyter_programs\\yolo_tracking_for_counting\\dataset_2\\kech46.mp4: 640x512 1 car, 25.1ms\n",
      "video 1/1 (330/448) C:\\Users\\hamza\\OneDrive\\Desktop\\Jupyter_programs\\yolo_tracking_for_counting\\dataset_2\\kech46.mp4: 640x512 1 car, 31.3ms\n",
      "video 1/1 (331/448) C:\\Users\\hamza\\OneDrive\\Desktop\\Jupyter_programs\\yolo_tracking_for_counting\\dataset_2\\kech46.mp4: 640x512 1 car, 15.6ms\n",
      "video 1/1 (332/448) C:\\Users\\hamza\\OneDrive\\Desktop\\Jupyter_programs\\yolo_tracking_for_counting\\dataset_2\\kech46.mp4: 640x512 1 car, 15.6ms\n",
      "video 1/1 (333/448) C:\\Users\\hamza\\OneDrive\\Desktop\\Jupyter_programs\\yolo_tracking_for_counting\\dataset_2\\kech46.mp4: 640x512 1 car, 31.2ms\n",
      "video 1/1 (334/448) C:\\Users\\hamza\\OneDrive\\Desktop\\Jupyter_programs\\yolo_tracking_for_counting\\dataset_2\\kech46.mp4: 640x512 1 car, 31.3ms\n",
      "video 1/1 (335/448) C:\\Users\\hamza\\OneDrive\\Desktop\\Jupyter_programs\\yolo_tracking_for_counting\\dataset_2\\kech46.mp4: 640x512 1 car, 15.7ms\n",
      "video 1/1 (336/448) C:\\Users\\hamza\\OneDrive\\Desktop\\Jupyter_programs\\yolo_tracking_for_counting\\dataset_2\\kech46.mp4: 640x512 1 car, 31.3ms\n",
      "video 1/1 (337/448) C:\\Users\\hamza\\OneDrive\\Desktop\\Jupyter_programs\\yolo_tracking_for_counting\\dataset_2\\kech46.mp4: 640x512 1 car, 31.2ms\n",
      "video 1/1 (338/448) C:\\Users\\hamza\\OneDrive\\Desktop\\Jupyter_programs\\yolo_tracking_for_counting\\dataset_2\\kech46.mp4: 640x512 1 car, 116.1ms\n",
      "video 1/1 (339/448) C:\\Users\\hamza\\OneDrive\\Desktop\\Jupyter_programs\\yolo_tracking_for_counting\\dataset_2\\kech46.mp4: 640x512 1 car, 116.2ms\n",
      "video 1/1 (340/448) C:\\Users\\hamza\\OneDrive\\Desktop\\Jupyter_programs\\yolo_tracking_for_counting\\dataset_2\\kech46.mp4: 640x512 1 car, 46.9ms\n",
      "video 1/1 (341/448) C:\\Users\\hamza\\OneDrive\\Desktop\\Jupyter_programs\\yolo_tracking_for_counting\\dataset_2\\kech46.mp4: 640x512 1 car, 51.7ms\n",
      "video 1/1 (342/448) C:\\Users\\hamza\\OneDrive\\Desktop\\Jupyter_programs\\yolo_tracking_for_counting\\dataset_2\\kech46.mp4: 640x512 1 car, 57.8ms\n",
      "video 1/1 (343/448) C:\\Users\\hamza\\OneDrive\\Desktop\\Jupyter_programs\\yolo_tracking_for_counting\\dataset_2\\kech46.mp4: 640x512 1 car, 16.1ms\n",
      "video 1/1 (344/448) C:\\Users\\hamza\\OneDrive\\Desktop\\Jupyter_programs\\yolo_tracking_for_counting\\dataset_2\\kech46.mp4: 640x512 1 car, 15.7ms\n",
      "video 1/1 (345/448) C:\\Users\\hamza\\OneDrive\\Desktop\\Jupyter_programs\\yolo_tracking_for_counting\\dataset_2\\kech46.mp4: 640x512 1 car, 31.3ms\n",
      "video 1/1 (346/448) C:\\Users\\hamza\\OneDrive\\Desktop\\Jupyter_programs\\yolo_tracking_for_counting\\dataset_2\\kech46.mp4: 640x512 1 car, 31.2ms\n",
      "video 1/1 (347/448) C:\\Users\\hamza\\OneDrive\\Desktop\\Jupyter_programs\\yolo_tracking_for_counting\\dataset_2\\kech46.mp4: 640x512 1 car, 25.2ms\n",
      "video 1/1 (348/448) C:\\Users\\hamza\\OneDrive\\Desktop\\Jupyter_programs\\yolo_tracking_for_counting\\dataset_2\\kech46.mp4: 640x512 1 car, 15.6ms\n",
      "video 1/1 (349/448) C:\\Users\\hamza\\OneDrive\\Desktop\\Jupyter_programs\\yolo_tracking_for_counting\\dataset_2\\kech46.mp4: 640x512 1 car, 31.2ms\n",
      "video 1/1 (350/448) C:\\Users\\hamza\\OneDrive\\Desktop\\Jupyter_programs\\yolo_tracking_for_counting\\dataset_2\\kech46.mp4: 640x512 1 car, 31.2ms\n",
      "video 1/1 (351/448) C:\\Users\\hamza\\OneDrive\\Desktop\\Jupyter_programs\\yolo_tracking_for_counting\\dataset_2\\kech46.mp4: 640x512 1 car, 31.3ms\n",
      "video 1/1 (352/448) C:\\Users\\hamza\\OneDrive\\Desktop\\Jupyter_programs\\yolo_tracking_for_counting\\dataset_2\\kech46.mp4: 640x512 1 car, 15.6ms\n",
      "video 1/1 (353/448) C:\\Users\\hamza\\OneDrive\\Desktop\\Jupyter_programs\\yolo_tracking_for_counting\\dataset_2\\kech46.mp4: 640x512 1 car, 13.8ms\n",
      "video 1/1 (354/448) C:\\Users\\hamza\\OneDrive\\Desktop\\Jupyter_programs\\yolo_tracking_for_counting\\dataset_2\\kech46.mp4: 640x512 1 car, 15.6ms\n",
      "video 1/1 (355/448) C:\\Users\\hamza\\OneDrive\\Desktop\\Jupyter_programs\\yolo_tracking_for_counting\\dataset_2\\kech46.mp4: 640x512 1 car, 31.3ms\n",
      "video 1/1 (356/448) C:\\Users\\hamza\\OneDrive\\Desktop\\Jupyter_programs\\yolo_tracking_for_counting\\dataset_2\\kech46.mp4: 640x512 1 car, 15.6ms\n",
      "video 1/1 (357/448) C:\\Users\\hamza\\OneDrive\\Desktop\\Jupyter_programs\\yolo_tracking_for_counting\\dataset_2\\kech46.mp4: 640x512 1 car, 31.2ms\n",
      "video 1/1 (358/448) C:\\Users\\hamza\\OneDrive\\Desktop\\Jupyter_programs\\yolo_tracking_for_counting\\dataset_2\\kech46.mp4: 640x512 1 car, 31.2ms\n",
      "video 1/1 (359/448) C:\\Users\\hamza\\OneDrive\\Desktop\\Jupyter_programs\\yolo_tracking_for_counting\\dataset_2\\kech46.mp4: 640x512 1 car, 15.6ms\n",
      "video 1/1 (360/448) C:\\Users\\hamza\\OneDrive\\Desktop\\Jupyter_programs\\yolo_tracking_for_counting\\dataset_2\\kech46.mp4: 640x512 1 car, 31.3ms\n",
      "video 1/1 (361/448) C:\\Users\\hamza\\OneDrive\\Desktop\\Jupyter_programs\\yolo_tracking_for_counting\\dataset_2\\kech46.mp4: 640x512 1 car, 33.7ms\n",
      "video 1/1 (362/448) C:\\Users\\hamza\\OneDrive\\Desktop\\Jupyter_programs\\yolo_tracking_for_counting\\dataset_2\\kech46.mp4: 640x512 1 car, 23.0ms\n",
      "video 1/1 (363/448) C:\\Users\\hamza\\OneDrive\\Desktop\\Jupyter_programs\\yolo_tracking_for_counting\\dataset_2\\kech46.mp4: 640x512 1 car, 31.3ms\n",
      "video 1/1 (364/448) C:\\Users\\hamza\\OneDrive\\Desktop\\Jupyter_programs\\yolo_tracking_for_counting\\dataset_2\\kech46.mp4: 640x512 1 car, 15.6ms\n",
      "video 1/1 (365/448) C:\\Users\\hamza\\OneDrive\\Desktop\\Jupyter_programs\\yolo_tracking_for_counting\\dataset_2\\kech46.mp4: 640x512 1 car, 15.6ms\n",
      "video 1/1 (366/448) C:\\Users\\hamza\\OneDrive\\Desktop\\Jupyter_programs\\yolo_tracking_for_counting\\dataset_2\\kech46.mp4: 640x512 1 car, 15.7ms\n",
      "video 1/1 (367/448) C:\\Users\\hamza\\OneDrive\\Desktop\\Jupyter_programs\\yolo_tracking_for_counting\\dataset_2\\kech46.mp4: 640x512 1 car, 15.6ms\n",
      "video 1/1 (368/448) C:\\Users\\hamza\\OneDrive\\Desktop\\Jupyter_programs\\yolo_tracking_for_counting\\dataset_2\\kech46.mp4: 640x512 1 car, 31.2ms\n",
      "video 1/1 (369/448) C:\\Users\\hamza\\OneDrive\\Desktop\\Jupyter_programs\\yolo_tracking_for_counting\\dataset_2\\kech46.mp4: 640x512 1 car, 26.8ms\n",
      "video 1/1 (370/448) C:\\Users\\hamza\\OneDrive\\Desktop\\Jupyter_programs\\yolo_tracking_for_counting\\dataset_2\\kech46.mp4: 640x512 1 car, 15.6ms\n",
      "video 1/1 (371/448) C:\\Users\\hamza\\OneDrive\\Desktop\\Jupyter_programs\\yolo_tracking_for_counting\\dataset_2\\kech46.mp4: 640x512 1 car, 11.1ms\n",
      "video 1/1 (372/448) C:\\Users\\hamza\\OneDrive\\Desktop\\Jupyter_programs\\yolo_tracking_for_counting\\dataset_2\\kech46.mp4: 640x512 1 car, 15.6ms\n",
      "video 1/1 (373/448) C:\\Users\\hamza\\OneDrive\\Desktop\\Jupyter_programs\\yolo_tracking_for_counting\\dataset_2\\kech46.mp4: 640x512 1 car, 31.2ms\n",
      "video 1/1 (374/448) C:\\Users\\hamza\\OneDrive\\Desktop\\Jupyter_programs\\yolo_tracking_for_counting\\dataset_2\\kech46.mp4: 640x512 1 car, 31.2ms\n",
      "video 1/1 (375/448) C:\\Users\\hamza\\OneDrive\\Desktop\\Jupyter_programs\\yolo_tracking_for_counting\\dataset_2\\kech46.mp4: 640x512 1 car, 23.9ms\n",
      "video 1/1 (376/448) C:\\Users\\hamza\\OneDrive\\Desktop\\Jupyter_programs\\yolo_tracking_for_counting\\dataset_2\\kech46.mp4: 640x512 1 car, 31.3ms\n",
      "video 1/1 (377/448) C:\\Users\\hamza\\OneDrive\\Desktop\\Jupyter_programs\\yolo_tracking_for_counting\\dataset_2\\kech46.mp4: 640x512 1 car, 15.6ms\n",
      "video 1/1 (378/448) C:\\Users\\hamza\\OneDrive\\Desktop\\Jupyter_programs\\yolo_tracking_for_counting\\dataset_2\\kech46.mp4: 640x512 1 car, 31.2ms\n",
      "video 1/1 (379/448) C:\\Users\\hamza\\OneDrive\\Desktop\\Jupyter_programs\\yolo_tracking_for_counting\\dataset_2\\kech46.mp4: 640x512 1 car, 23.1ms\n",
      "video 1/1 (380/448) C:\\Users\\hamza\\OneDrive\\Desktop\\Jupyter_programs\\yolo_tracking_for_counting\\dataset_2\\kech46.mp4: 640x512 1 car, 15.6ms\n",
      "video 1/1 (381/448) C:\\Users\\hamza\\OneDrive\\Desktop\\Jupyter_programs\\yolo_tracking_for_counting\\dataset_2\\kech46.mp4: 640x512 1 car, 31.2ms\n",
      "video 1/1 (382/448) C:\\Users\\hamza\\OneDrive\\Desktop\\Jupyter_programs\\yolo_tracking_for_counting\\dataset_2\\kech46.mp4: 640x512 1 car, 31.2ms\n",
      "video 1/1 (383/448) C:\\Users\\hamza\\OneDrive\\Desktop\\Jupyter_programs\\yolo_tracking_for_counting\\dataset_2\\kech46.mp4: 640x512 1 car, 31.3ms\n",
      "video 1/1 (384/448) C:\\Users\\hamza\\OneDrive\\Desktop\\Jupyter_programs\\yolo_tracking_for_counting\\dataset_2\\kech46.mp4: 640x512 1 car, 31.2ms\n",
      "video 1/1 (385/448) C:\\Users\\hamza\\OneDrive\\Desktop\\Jupyter_programs\\yolo_tracking_for_counting\\dataset_2\\kech46.mp4: 640x512 1 car, 31.2ms\n",
      "video 1/1 (386/448) C:\\Users\\hamza\\OneDrive\\Desktop\\Jupyter_programs\\yolo_tracking_for_counting\\dataset_2\\kech46.mp4: 640x512 1 car, 15.6ms\n",
      "video 1/1 (387/448) C:\\Users\\hamza\\OneDrive\\Desktop\\Jupyter_programs\\yolo_tracking_for_counting\\dataset_2\\kech46.mp4: 640x512 1 car, 29.7ms\n",
      "video 1/1 (388/448) C:\\Users\\hamza\\OneDrive\\Desktop\\Jupyter_programs\\yolo_tracking_for_counting\\dataset_2\\kech46.mp4: 640x512 1 car, 15.6ms\n",
      "video 1/1 (389/448) C:\\Users\\hamza\\OneDrive\\Desktop\\Jupyter_programs\\yolo_tracking_for_counting\\dataset_2\\kech46.mp4: 640x512 1 car, 16.1ms\n",
      "video 1/1 (390/448) C:\\Users\\hamza\\OneDrive\\Desktop\\Jupyter_programs\\yolo_tracking_for_counting\\dataset_2\\kech46.mp4: 640x512 1 car, 31.3ms\n",
      "video 1/1 (391/448) C:\\Users\\hamza\\OneDrive\\Desktop\\Jupyter_programs\\yolo_tracking_for_counting\\dataset_2\\kech46.mp4: 640x512 1 car, 31.3ms\n",
      "video 1/1 (392/448) C:\\Users\\hamza\\OneDrive\\Desktop\\Jupyter_programs\\yolo_tracking_for_counting\\dataset_2\\kech46.mp4: 640x512 1 car, 15.7ms\n",
      "video 1/1 (393/448) C:\\Users\\hamza\\OneDrive\\Desktop\\Jupyter_programs\\yolo_tracking_for_counting\\dataset_2\\kech46.mp4: 640x512 1 car, 31.3ms\n",
      "video 1/1 (394/448) C:\\Users\\hamza\\OneDrive\\Desktop\\Jupyter_programs\\yolo_tracking_for_counting\\dataset_2\\kech46.mp4: 640x512 1 car, 26.0ms\n",
      "video 1/1 (395/448) C:\\Users\\hamza\\OneDrive\\Desktop\\Jupyter_programs\\yolo_tracking_for_counting\\dataset_2\\kech46.mp4: 640x512 1 car, 23.5ms\n",
      "video 1/1 (396/448) C:\\Users\\hamza\\OneDrive\\Desktop\\Jupyter_programs\\yolo_tracking_for_counting\\dataset_2\\kech46.mp4: 640x512 1 car, 25.8ms\n",
      "video 1/1 (397/448) C:\\Users\\hamza\\OneDrive\\Desktop\\Jupyter_programs\\yolo_tracking_for_counting\\dataset_2\\kech46.mp4: 640x512 1 car, 31.2ms\n",
      "video 1/1 (398/448) C:\\Users\\hamza\\OneDrive\\Desktop\\Jupyter_programs\\yolo_tracking_for_counting\\dataset_2\\kech46.mp4: 640x512 1 car, 23.8ms\n",
      "video 1/1 (399/448) C:\\Users\\hamza\\OneDrive\\Desktop\\Jupyter_programs\\yolo_tracking_for_counting\\dataset_2\\kech46.mp4: 640x512 1 car, 31.2ms\n",
      "video 1/1 (400/448) C:\\Users\\hamza\\OneDrive\\Desktop\\Jupyter_programs\\yolo_tracking_for_counting\\dataset_2\\kech46.mp4: 640x512 1 car, 15.6ms\n",
      "video 1/1 (401/448) C:\\Users\\hamza\\OneDrive\\Desktop\\Jupyter_programs\\yolo_tracking_for_counting\\dataset_2\\kech46.mp4: 640x512 1 car, 15.6ms\n",
      "video 1/1 (402/448) C:\\Users\\hamza\\OneDrive\\Desktop\\Jupyter_programs\\yolo_tracking_for_counting\\dataset_2\\kech46.mp4: 640x512 (no detections), 27.4ms\n",
      "video 1/1 (403/448) C:\\Users\\hamza\\OneDrive\\Desktop\\Jupyter_programs\\yolo_tracking_for_counting\\dataset_2\\kech46.mp4: 640x512 (no detections), 31.2ms\n",
      "video 1/1 (404/448) C:\\Users\\hamza\\OneDrive\\Desktop\\Jupyter_programs\\yolo_tracking_for_counting\\dataset_2\\kech46.mp4: 640x512 (no detections), 15.6ms\n",
      "video 1/1 (405/448) C:\\Users\\hamza\\OneDrive\\Desktop\\Jupyter_programs\\yolo_tracking_for_counting\\dataset_2\\kech46.mp4: 640x512 (no detections), 15.6ms\n",
      "video 1/1 (406/448) C:\\Users\\hamza\\OneDrive\\Desktop\\Jupyter_programs\\yolo_tracking_for_counting\\dataset_2\\kech46.mp4: 640x512 (no detections), 15.6ms\n",
      "video 1/1 (407/448) C:\\Users\\hamza\\OneDrive\\Desktop\\Jupyter_programs\\yolo_tracking_for_counting\\dataset_2\\kech46.mp4: 640x512 (no detections), 31.2ms\n",
      "video 1/1 (408/448) C:\\Users\\hamza\\OneDrive\\Desktop\\Jupyter_programs\\yolo_tracking_for_counting\\dataset_2\\kech46.mp4: 640x512 (no detections), 31.2ms\n",
      "video 1/1 (409/448) C:\\Users\\hamza\\OneDrive\\Desktop\\Jupyter_programs\\yolo_tracking_for_counting\\dataset_2\\kech46.mp4: 640x512 (no detections), 15.6ms\n",
      "video 1/1 (410/448) C:\\Users\\hamza\\OneDrive\\Desktop\\Jupyter_programs\\yolo_tracking_for_counting\\dataset_2\\kech46.mp4: 640x512 (no detections), 96.2ms\n",
      "video 1/1 (411/448) C:\\Users\\hamza\\OneDrive\\Desktop\\Jupyter_programs\\yolo_tracking_for_counting\\dataset_2\\kech46.mp4: 640x512 1 car, 109.1ms\n",
      "video 1/1 (412/448) C:\\Users\\hamza\\OneDrive\\Desktop\\Jupyter_programs\\yolo_tracking_for_counting\\dataset_2\\kech46.mp4: 640x512 1 car, 92.2ms\n",
      "video 1/1 (413/448) C:\\Users\\hamza\\OneDrive\\Desktop\\Jupyter_programs\\yolo_tracking_for_counting\\dataset_2\\kech46.mp4: 640x512 1 car, 53.2ms\n",
      "video 1/1 (414/448) C:\\Users\\hamza\\OneDrive\\Desktop\\Jupyter_programs\\yolo_tracking_for_counting\\dataset_2\\kech46.mp4: 640x512 (no detections), 46.9ms\n",
      "video 1/1 (415/448) C:\\Users\\hamza\\OneDrive\\Desktop\\Jupyter_programs\\yolo_tracking_for_counting\\dataset_2\\kech46.mp4: 640x512 1 car, 52.3ms\n",
      "video 1/1 (416/448) C:\\Users\\hamza\\OneDrive\\Desktop\\Jupyter_programs\\yolo_tracking_for_counting\\dataset_2\\kech46.mp4: 640x512 (no detections), 39.0ms\n",
      "video 1/1 (417/448) C:\\Users\\hamza\\OneDrive\\Desktop\\Jupyter_programs\\yolo_tracking_for_counting\\dataset_2\\kech46.mp4: 640x512 (no detections), 27.7ms\n",
      "video 1/1 (418/448) C:\\Users\\hamza\\OneDrive\\Desktop\\Jupyter_programs\\yolo_tracking_for_counting\\dataset_2\\kech46.mp4: 640x512 (no detections), 31.2ms\n",
      "video 1/1 (419/448) C:\\Users\\hamza\\OneDrive\\Desktop\\Jupyter_programs\\yolo_tracking_for_counting\\dataset_2\\kech46.mp4: 640x512 1 car, 31.2ms\n",
      "video 1/1 (420/448) C:\\Users\\hamza\\OneDrive\\Desktop\\Jupyter_programs\\yolo_tracking_for_counting\\dataset_2\\kech46.mp4: 640x512 (no detections), 31.2ms\n",
      "video 1/1 (421/448) C:\\Users\\hamza\\OneDrive\\Desktop\\Jupyter_programs\\yolo_tracking_for_counting\\dataset_2\\kech46.mp4: 640x512 (no detections), 31.3ms\n",
      "video 1/1 (422/448) C:\\Users\\hamza\\OneDrive\\Desktop\\Jupyter_programs\\yolo_tracking_for_counting\\dataset_2\\kech46.mp4: 640x512 (no detections), 42.8ms\n",
      "video 1/1 (423/448) C:\\Users\\hamza\\OneDrive\\Desktop\\Jupyter_programs\\yolo_tracking_for_counting\\dataset_2\\kech46.mp4: 640x512 (no detections), 93.8ms\n",
      "video 1/1 (424/448) C:\\Users\\hamza\\OneDrive\\Desktop\\Jupyter_programs\\yolo_tracking_for_counting\\dataset_2\\kech46.mp4: 640x512 (no detections), 141.1ms\n",
      "video 1/1 (425/448) C:\\Users\\hamza\\OneDrive\\Desktop\\Jupyter_programs\\yolo_tracking_for_counting\\dataset_2\\kech46.mp4: 640x512 (no detections), 100.5ms\n",
      "video 1/1 (426/448) C:\\Users\\hamza\\OneDrive\\Desktop\\Jupyter_programs\\yolo_tracking_for_counting\\dataset_2\\kech46.mp4: 640x512 (no detections), 24.0ms\n",
      "video 1/1 (427/448) C:\\Users\\hamza\\OneDrive\\Desktop\\Jupyter_programs\\yolo_tracking_for_counting\\dataset_2\\kech46.mp4: 640x512 (no detections), 31.2ms\n",
      "video 1/1 (428/448) C:\\Users\\hamza\\OneDrive\\Desktop\\Jupyter_programs\\yolo_tracking_for_counting\\dataset_2\\kech46.mp4: 640x512 (no detections), 36.7ms\n",
      "video 1/1 (429/448) C:\\Users\\hamza\\OneDrive\\Desktop\\Jupyter_programs\\yolo_tracking_for_counting\\dataset_2\\kech46.mp4: 640x512 (no detections), 31.9ms\n",
      "video 1/1 (430/448) C:\\Users\\hamza\\OneDrive\\Desktop\\Jupyter_programs\\yolo_tracking_for_counting\\dataset_2\\kech46.mp4: 640x512 (no detections), 24.8ms\n",
      "video 1/1 (431/448) C:\\Users\\hamza\\OneDrive\\Desktop\\Jupyter_programs\\yolo_tracking_for_counting\\dataset_2\\kech46.mp4: 640x512 (no detections), 15.7ms\n",
      "video 1/1 (432/448) C:\\Users\\hamza\\OneDrive\\Desktop\\Jupyter_programs\\yolo_tracking_for_counting\\dataset_2\\kech46.mp4: 640x512 (no detections), 15.6ms\n",
      "video 1/1 (433/448) C:\\Users\\hamza\\OneDrive\\Desktop\\Jupyter_programs\\yolo_tracking_for_counting\\dataset_2\\kech46.mp4: 640x512 (no detections), 31.2ms\n",
      "video 1/1 (434/448) C:\\Users\\hamza\\OneDrive\\Desktop\\Jupyter_programs\\yolo_tracking_for_counting\\dataset_2\\kech46.mp4: 640x512 (no detections), 31.3ms\n",
      "video 1/1 (435/448) C:\\Users\\hamza\\OneDrive\\Desktop\\Jupyter_programs\\yolo_tracking_for_counting\\dataset_2\\kech46.mp4: 640x512 (no detections), 31.4ms\n",
      "video 1/1 (436/448) C:\\Users\\hamza\\OneDrive\\Desktop\\Jupyter_programs\\yolo_tracking_for_counting\\dataset_2\\kech46.mp4: 640x512 (no detections), 31.3ms\n",
      "video 1/1 (437/448) C:\\Users\\hamza\\OneDrive\\Desktop\\Jupyter_programs\\yolo_tracking_for_counting\\dataset_2\\kech46.mp4: 640x512 (no detections), 32.0ms\n",
      "video 1/1 (438/448) C:\\Users\\hamza\\OneDrive\\Desktop\\Jupyter_programs\\yolo_tracking_for_counting\\dataset_2\\kech46.mp4: 640x512 (no detections), 34.3ms\n",
      "video 1/1 (439/448) C:\\Users\\hamza\\OneDrive\\Desktop\\Jupyter_programs\\yolo_tracking_for_counting\\dataset_2\\kech46.mp4: 640x512 (no detections), 31.2ms\n",
      "video 1/1 (440/448) C:\\Users\\hamza\\OneDrive\\Desktop\\Jupyter_programs\\yolo_tracking_for_counting\\dataset_2\\kech46.mp4: 640x512 (no detections), 31.2ms\n",
      "video 1/1 (441/448) C:\\Users\\hamza\\OneDrive\\Desktop\\Jupyter_programs\\yolo_tracking_for_counting\\dataset_2\\kech46.mp4: 640x512 (no detections), 31.2ms\n",
      "video 1/1 (442/448) C:\\Users\\hamza\\OneDrive\\Desktop\\Jupyter_programs\\yolo_tracking_for_counting\\dataset_2\\kech46.mp4: 640x512 (no detections), 31.2ms\n",
      "video 1/1 (443/448) C:\\Users\\hamza\\OneDrive\\Desktop\\Jupyter_programs\\yolo_tracking_for_counting\\dataset_2\\kech46.mp4: 640x512 (no detections), 32.0ms\n",
      "video 1/1 (444/448) C:\\Users\\hamza\\OneDrive\\Desktop\\Jupyter_programs\\yolo_tracking_for_counting\\dataset_2\\kech46.mp4: 640x512 (no detections), 109.8ms\n",
      "video 1/1 (445/448) C:\\Users\\hamza\\OneDrive\\Desktop\\Jupyter_programs\\yolo_tracking_for_counting\\dataset_2\\kech46.mp4: 640x512 (no detections), 99.7ms\n",
      "video 1/1 (446/448) C:\\Users\\hamza\\OneDrive\\Desktop\\Jupyter_programs\\yolo_tracking_for_counting\\dataset_2\\kech46.mp4: 640x512 (no detections), 93.9ms\n",
      "video 1/1 (447/448) C:\\Users\\hamza\\OneDrive\\Desktop\\Jupyter_programs\\yolo_tracking_for_counting\\dataset_2\\kech46.mp4: 640x512 (no detections), 16.2ms\n",
      "video 1/1 (448/448) C:\\Users\\hamza\\OneDrive\\Desktop\\Jupyter_programs\\yolo_tracking_for_counting\\dataset_2\\kech46.mp4: 640x512 (no detections), 25.3ms\n",
      "Speed: 6.6ms preprocess, 31.4ms inference, 8.5ms postprocess, 3.3ms tracking, 0.8ms counting per image at shape (1, 3, 640, 512)\n",
      "Results saved to \u001b[1mruns\\count\\kech\u001b[0m\n"
     ]
    }
   ],
   "source": [
    "import time\n",
    "ti = time.time()\n",
    "counter_yolo , profilers , _  = run(args)\n",
    "tf = time.time()"
   ]
  },
  {
   "cell_type": "code",
   "execution_count": 10,
   "id": "7178f687-3da8-4c4f-8a49-297eac4693d3",
   "metadata": {},
   "outputs": [
    {
     "data": {
      "text/plain": [
       "44.13580298423767"
      ]
     },
     "execution_count": 10,
     "metadata": {},
     "output_type": "execute_result"
    }
   ],
   "source": [
    "tf-ti"
   ]
  },
  {
   "cell_type": "code",
   "execution_count": null,
   "id": "d1f93feb-c40b-460e-a406-e945efe4f1d5",
   "metadata": {},
   "outputs": [],
   "source": [
    "counter_yolo.counter , counter_yolo.count_per_class"
   ]
  },
  {
   "cell_type": "code",
   "execution_count": null,
   "id": "efe27cb8-6289-46c3-87d5-79d43e319fee",
   "metadata": {},
   "outputs": [],
   "source": [
    "print(f\"The number of vehicles counted by the algorithm is: {counter_yolo.counter}\")\n",
    "print(f\"The number of vehicles per type counted by the algorithm is: {counter_yolo.count_per_class}\")"
   ]
  },
  {
   "cell_type": "code",
   "execution_count": null,
   "id": "29529831-f07b-4380-a42c-fa66c4f39d62",
   "metadata": {},
   "outputs": [],
   "source": [
    "tf-ti"
   ]
  },
  {
   "cell_type": "code",
   "execution_count": null,
   "id": "60af91ad-e578-4911-b1af-fa5d214e2236",
   "metadata": {},
   "outputs": [],
   "source": [
    "for profiler in profilers:\n",
    "    print(profiler)"
   ]
  },
  {
   "cell_type": "code",
   "execution_count": null,
   "id": "94ffa63e-5f31-4fda-aa6e-761741640bcb",
   "metadata": {},
   "outputs": [],
   "source": [
    "type(counter_yolo.predictor)\n",
    "\n",
    "if isinstance(counter_yolo.predictor.model, AutoBackend)"
   ]
  },
  {
   "cell_type": "code",
   "execution_count": null,
   "id": "b4efd9a9-b681-4bd5-b176-5239f6d9cd23",
   "metadata": {},
   "outputs": [],
   "source": [
    "# print(f\"The number of vehicles counted by the algorithm is: {counter_yolo.counter}\")\n",
    "# print(f\"The number of vehicles per type counted by the algorithm is: {counter_yolo.count_per_class}\")\n"
   ]
  },
  {
   "cell_type": "code",
   "execution_count": null,
   "id": "f5ea5539-a018-438c-a940-e40200b8ce12",
   "metadata": {},
   "outputs": [],
   "source": [
    "# import cv2 \n",
    "# import numpy as np \n",
    "\n",
    "# # Open the video file\n",
    "# cap = cv2.VideoCapture('vehicles.mp4')\n",
    "\n",
    "# TARGET_WIDTH = 500\n",
    "# TARGET_HEIGHT = 1000\n",
    "\n",
    "# pts1 = np.float32([[1252, 787], [2298, 803],[5039, 2159], [-550, 2159]])\n",
    "# pts2 = np.float32([[0, 0], [TARGET_WIDTH - 1, 0],[TARGET_WIDTH - 1, TARGET_HEIGHT - 1], [0, TARGET_HEIGHT - 1]])\n",
    "# matrix = cv2.getPerspectiveTransform(pts1, pts2)\n",
    "\n",
    "# while cap.isOpened():\n",
    "#     ret, frame = cap.read()\n",
    "#     if not ret:\n",
    "#         break\n",
    "        \n",
    "#     result = cv2.warpPerspective(frame, matrix, (TARGET_WIDTH, TARGET_HEIGHT))\n",
    "    \n",
    "#     cv2.imshow('frame', frame)\n",
    "#     cv2.imshow('frame1', result)\n",
    "\n",
    "#     if cv2.waitKey(24) == 27:\n",
    "#         break\n",
    "\n",
    "# cap.release()\n",
    "# cv2.destroyAllWindows()"
   ]
  },
  {
   "cell_type": "code",
   "execution_count": null,
   "id": "a6e92001-38d8-491a-88ae-809d84a80ffe",
   "metadata": {},
   "outputs": [],
   "source": [
    "counter_yolo.video_attributes"
   ]
  },
  {
   "cell_type": "code",
   "execution_count": null,
   "id": "c07ccb0b-98ed-4f8e-9cf3-bdc201a8b132",
   "metadata": {},
   "outputs": [],
   "source": [
    "{'width': 1080, 'height': 1920, 'frame_rate': 30, 'total_frames': 865}\n"
   ]
  },
  {
   "cell_type": "code",
   "execution_count": null,
   "id": "7d7f4afc-1c7f-44d1-b9cf-1570acb9e20e",
   "metadata": {},
   "outputs": [],
   "source": [
    "counter_yolo.counting_attributes[\"line_point11\"] , counter_yolo.counting_attributes[\"line_point12\"]"
   ]
  },
  {
   "cell_type": "code",
   "execution_count": null,
   "id": "6583f6cc-fa52-45ac-81ab-5babe34d8970",
   "metadata": {},
   "outputs": [],
   "source": [
    "counter_yolo.counting_attributes[\"line_point21\"] , counter_yolo.counting_attributes[\"line_point22\"]"
   ]
  },
  {
   "cell_type": "code",
   "execution_count": null,
   "id": "1f0dd35f-afbd-44ca-8a6d-01143eb679c0",
   "metadata": {},
   "outputs": [],
   "source": []
  },
  {
   "cell_type": "code",
   "execution_count": null,
   "id": "749ca46c-35d2-4035-966c-476b7a4af24c",
   "metadata": {},
   "outputs": [],
   "source": []
  },
  {
   "cell_type": "code",
   "execution_count": null,
   "id": "6cd9ff9a-d29e-4770-abed-0f96e6c23408",
   "metadata": {},
   "outputs": [],
   "source": []
  },
  {
   "cell_type": "code",
   "execution_count": null,
   "id": "011735e4-a96f-48f5-bc72-840960a557bf",
   "metadata": {},
   "outputs": [],
   "source": []
  },
  {
   "cell_type": "code",
   "execution_count": null,
   "id": "276cf5f8-74bf-4679-aea5-54d3f66bf062",
   "metadata": {},
   "outputs": [],
   "source": []
  },
  {
   "cell_type": "code",
   "execution_count": null,
   "id": "37868db2-6bae-4b07-8e70-6ba19af75272",
   "metadata": {},
   "outputs": [],
   "source": []
  },
  {
   "cell_type": "markdown",
   "id": "854ddce9-187e-45cd-8327-211d58a0f02d",
   "metadata": {},
   "source": [
    "### Run Experiments:"
   ]
  },
  {
   "cell_type": "code",
   "execution_count": null,
   "id": "678ededa-8c54-4fb3-8dd0-91b78fc01cb3",
   "metadata": {},
   "outputs": [],
   "source": [
    "1224*50/3600"
   ]
  },
  {
   "cell_type": "code",
   "execution_count": null,
   "id": "50bfbd9e-e117-4287-9b12-787c9e93cb12",
   "metadata": {},
   "outputs": [],
   "source": [
    "import os\n",
    "import tqdm\n",
    "\n",
    "folder_path = os.path.join(os.getcwd(), \"I_Maroc\")\n",
    "videos = sorted([f for f in os.listdir(folder_path) if f.endswith('.mp4')])\n",
    "video_names = [f\"kech{idx}.mp4\" for idx in range(1, len(videos) + 1)]\n",
    "list_trackers = ['bytetrack', 'botsort', 'strongsort', 'ocsort', 'deepocsort' , 'hybridsort']\n",
    "strides = [1, 2, 3, 4]\n",
    "\n",
    "args.tracking_method = \"ocsort\"\n",
    "args.counting_approach = \"tracking_without_line\"\n",
    "\n",
    "overall_results = {}\n",
    "for video in video_names:\n",
    "    \n",
    "    print(f\"video: {video}\")\n",
    "    args.source = os.path.join(os.getcwd(), \"I_Maroc\" , video)\n",
    "    dict_count , dict_runtime = {} , {}\n",
    "\n",
    "    for stride in strides:\n",
    "    \n",
    "        print(f\"stride: {stride}\")\n",
    "        \n",
    "        args.vid_stride = stride\n",
    "        counter_yolo , profilers , _  = run(args)\n",
    "\n",
    "        dict_count[f\"stride_{stride}\"] = (counter_yolo.count_per_class , counter_yolo.counter)\n",
    "        dict_runtime[f\"stride_{stride}\"] = f\"\\n Preprocessing: {profilers[0].t} \\n Inference (detection): {profilers[1].t} \\n Postprocessing: {profilers[2].t} \\n Tracking: {profilers[3].t} \\n Counting: {profilers[4].t}\"\n",
    "\n",
    "    overall_results[video] = {\"counting\" : dict_count , \"processing time\": dict_runtime}"
   ]
  },
  {
   "cell_type": "code",
   "execution_count": null,
   "id": "14c10dcf-f484-42be-aa36-36bce41ac3bc",
   "metadata": {},
   "outputs": [],
   "source": [
    "folder_path = os.path.join(os.getcwd(), \"I_Maroc\")\n",
    "videos = sorted([f for f in os.listdir(folder_path) if f.endswith('.mp4')])\n",
    "video_names = [f\"kech{idx}.mp4\" for idx in range(1, len(videos) + 1)]\n",
    "video_names"
   ]
  },
  {
   "cell_type": "code",
   "execution_count": null,
   "id": "94e40bf2-2628-4ff3-ba6b-9e831128d408",
   "metadata": {},
   "outputs": [],
   "source": []
  },
  {
   "cell_type": "code",
   "execution_count": null,
   "id": "484e91b0-8d2c-404a-ac10-9cc4fa035150",
   "metadata": {},
   "outputs": [],
   "source": []
  },
  {
   "cell_type": "code",
   "execution_count": null,
   "id": "8a47db3a-112e-4290-a6a4-37026c0f4744",
   "metadata": {},
   "outputs": [],
   "source": []
  },
  {
   "cell_type": "code",
   "execution_count": null,
   "id": "9ba34178-579f-423c-a6e4-aa08c102ff8f",
   "metadata": {},
   "outputs": [],
   "source": []
  },
  {
   "cell_type": "code",
   "execution_count": null,
   "id": "74a7dc79-d1b8-4fd7-a611-5a5a5b744edf",
   "metadata": {},
   "outputs": [],
   "source": []
  },
  {
   "cell_type": "code",
   "execution_count": null,
   "id": "73dc2d14-cdaf-4b9e-b678-8ebd4969c794",
   "metadata": {},
   "outputs": [],
   "source": []
  },
  {
   "cell_type": "code",
   "execution_count": null,
   "id": "aac25dcb-13dc-4eb9-83a0-dd50e5728967",
   "metadata": {},
   "outputs": [],
   "source": []
  },
  {
   "cell_type": "code",
   "execution_count": null,
   "id": "5b424d3a-4667-4d4a-9067-b89ba7cf04a6",
   "metadata": {},
   "outputs": [],
   "source": []
  },
  {
   "cell_type": "code",
   "execution_count": null,
   "id": "3d368f01-59f0-4d00-a87d-3f4b35169339",
   "metadata": {},
   "outputs": [],
   "source": []
  },
  {
   "cell_type": "code",
   "execution_count": null,
   "id": "eaa97a2b-7331-425b-aee3-9871d800af44",
   "metadata": {},
   "outputs": [],
   "source": []
  },
  {
   "cell_type": "code",
   "execution_count": null,
   "id": "a4ea0562-ac7a-4e0f-a475-ff48e8ee2281",
   "metadata": {},
   "outputs": [],
   "source": []
  },
  {
   "cell_type": "code",
   "execution_count": null,
   "id": "48962edd-139f-46f2-9b25-c1e2932e4c49",
   "metadata": {},
   "outputs": [],
   "source": []
  },
  {
   "cell_type": "code",
   "execution_count": null,
   "id": "8ec8c00a-b2ca-48f4-a4e8-02b90374aa43",
   "metadata": {},
   "outputs": [],
   "source": []
  },
  {
   "cell_type": "code",
   "execution_count": null,
   "id": "7a3d62d6-a50d-4596-90c5-85e3bf84a289",
   "metadata": {},
   "outputs": [],
   "source": []
  },
  {
   "cell_type": "code",
   "execution_count": null,
   "id": "25f56702-2d8e-43e3-816f-a9e42083ee25",
   "metadata": {},
   "outputs": [],
   "source": []
  },
  {
   "cell_type": "code",
   "execution_count": null,
   "id": "b947fc2c-5a9d-4791-87a1-cbeed25d5d3b",
   "metadata": {},
   "outputs": [],
   "source": []
  },
  {
   "cell_type": "code",
   "execution_count": null,
   "id": "ad72d9ad-0b34-406b-8c16-78c524bb245c",
   "metadata": {},
   "outputs": [],
   "source": []
  },
  {
   "cell_type": "code",
   "execution_count": null,
   "id": "9ac7978b-2f9f-43c8-b463-bde48a1f60b5",
   "metadata": {},
   "outputs": [],
   "source": []
  },
  {
   "cell_type": "code",
   "execution_count": null,
   "id": "41834844-b79e-4c5e-8a48-048a90afd6d6",
   "metadata": {},
   "outputs": [],
   "source": []
  },
  {
   "cell_type": "code",
   "execution_count": null,
   "id": "fd665f6d-282c-4ec1-a6b7-4b46c97bcba2",
   "metadata": {},
   "outputs": [],
   "source": []
  },
  {
   "cell_type": "code",
   "execution_count": null,
   "id": "377f12a1-4a0d-48bb-8bfa-f302ad2805fc",
   "metadata": {},
   "outputs": [],
   "source": []
  },
  {
   "cell_type": "code",
   "execution_count": null,
   "id": "9515e4ec-ca68-4d5d-a908-a2ecbc1b88b7",
   "metadata": {},
   "outputs": [],
   "source": []
  },
  {
   "cell_type": "code",
   "execution_count": null,
   "id": "2f30716b-15d0-40da-8406-3fb3b661022d",
   "metadata": {},
   "outputs": [],
   "source": []
  },
  {
   "cell_type": "code",
   "execution_count": null,
   "id": "c0e7672e-ffb2-408a-ba1b-a84acb61b1f9",
   "metadata": {},
   "outputs": [],
   "source": []
  },
  {
   "cell_type": "code",
   "execution_count": null,
   "id": "c17c676d-1210-4377-b2b9-0a00071782c6",
   "metadata": {},
   "outputs": [],
   "source": []
  },
  {
   "cell_type": "code",
   "execution_count": null,
   "id": "8f9499e4-86f5-44b5-bdf8-85efefd835e5",
   "metadata": {},
   "outputs": [],
   "source": []
  },
  {
   "cell_type": "code",
   "execution_count": null,
   "id": "0b0549a5-b6d5-4b6a-aea6-c0ed694976a4",
   "metadata": {},
   "outputs": [],
   "source": []
  },
  {
   "cell_type": "code",
   "execution_count": null,
   "id": "bc070a57-3f00-4f13-9666-8b5c1ee6d42f",
   "metadata": {},
   "outputs": [],
   "source": []
  },
  {
   "cell_type": "code",
   "execution_count": null,
   "id": "9c32fe7b-ca4e-4c94-b5ea-767f9367f01f",
   "metadata": {},
   "outputs": [],
   "source": []
  },
  {
   "cell_type": "code",
   "execution_count": null,
   "id": "6c0ba76e-6b3d-4116-bd1e-8f2c3a4fb9dc",
   "metadata": {},
   "outputs": [],
   "source": []
  },
  {
   "cell_type": "code",
   "execution_count": null,
   "id": "f6b6b96e-2bfb-4df7-89a9-fd09db69fbf9",
   "metadata": {},
   "outputs": [],
   "source": []
  },
  {
   "cell_type": "code",
   "execution_count": null,
   "id": "f3ab2b62-4652-440d-855f-566aeb055f14",
   "metadata": {},
   "outputs": [],
   "source": []
  },
  {
   "cell_type": "code",
   "execution_count": null,
   "id": "ea413d3e-f962-4af4-932a-bc98c6b43547",
   "metadata": {},
   "outputs": [],
   "source": []
  },
  {
   "cell_type": "code",
   "execution_count": null,
   "id": "fb33260c-7067-4dff-8cc3-86bcfce67785",
   "metadata": {},
   "outputs": [],
   "source": []
  },
  {
   "cell_type": "code",
   "execution_count": null,
   "id": "ba4f9a24-c84e-470d-b768-612f4cfab320",
   "metadata": {},
   "outputs": [],
   "source": []
  },
  {
   "cell_type": "markdown",
   "id": "36ba57fe-3073-4def-a79d-40ace1bdf760",
   "metadata": {},
   "source": [
    "### Road Traffic indicators Extraction"
   ]
  },
  {
   "cell_type": "code",
   "execution_count": null,
   "id": "595e91f4-5c40-4e9b-8f68-ec48afa847bc",
   "metadata": {},
   "outputs": [],
   "source": [
    "import os\n",
    "import pandas as pd\n",
    "csv_file_path = os.path.join(\"runs\" , \"count\" , 'vehicle_counts.csv')\n",
    "df = pd.read_csv(csv_file_path)\n",
    "df"
   ]
  },
  {
   "cell_type": "code",
   "execution_count": null,
   "id": "db40fea0-08d3-44c5-ac59-0fa1af786135",
   "metadata": {},
   "outputs": [],
   "source": [
    "df.tail(50)"
   ]
  },
  {
   "cell_type": "code",
   "execution_count": null,
   "id": "e4311ffb-a8ee-4177-b5fd-a1320b28456c",
   "metadata": {},
   "outputs": [],
   "source": [
    "def calculate_speed(df, dist_two_lines):\n",
    "    \"\"\"\n",
    "    Calculate the speed of each vehicle using the time difference between its first and last appearance between the two lines.\n",
    "\n",
    "    Args:\n",
    "        df (pd.DataFrame): DataFrame containing the vehicle data.\n",
    "        dist_two_lines (float): Distance between the two lines in meters.\n",
    "\n",
    "    Returns:\n",
    "        pd.DataFrame: New DataFrame with 'ids' and 'speed' columns.\n",
    "    \"\"\"\n",
    "    # List to store speeds\n",
    "    speed_data = []\n",
    "\n",
    "    # Group by vehicle ID\n",
    "    grouped = df.groupby('IDs')\n",
    "\n",
    "    # Calculate speed for each vehicle\n",
    "    for vehicle_id, group in grouped:\n",
    "        first_time = group.iloc[0]['time (ms)']\n",
    "        last_time = group.iloc[-1]['time (ms)']\n",
    "        time_diff = (last_time - first_time) / 1000.0  # Convert to seconds\n",
    "        if time_diff > 0:\n",
    "            speed = round((dist_two_lines / time_diff),2)  # speed = distance / time\n",
    "            speed_km_h = int(speed * 3.6)  # speed in kilometers per hour\n",
    "            speed_data.append({'ids': vehicle_id, 'speed': speed, 'speed_km_h': speed_km_h})\n",
    "\n",
    "    # Create new DataFrame from speed data\n",
    "    speed_df = pd.DataFrame(speed_data)\n",
    "\n",
    "    return speed_df"
   ]
  },
  {
   "cell_type": "code",
   "execution_count": null,
   "id": "ed22d4a4-6f72-4aba-8a3c-1d865dfdc6d1",
   "metadata": {},
   "outputs": [],
   "source": [
    "dist_two_lines = 4.0 \n",
    "frame_rate = 30.0\n",
    "\n",
    "speed_df = calculate_speed(df, dist_two_lines)\n",
    "speed_df"
   ]
  },
  {
   "cell_type": "code",
   "execution_count": null,
   "id": "d3494554-24fa-4e3b-a190-d2cbcac4d437",
   "metadata": {},
   "outputs": [],
   "source": [
    "speed_df.to_csv(os.path.join(\"runs/count/kech\", 'vehicle_speed.csv'), index=False)"
   ]
  },
  {
   "cell_type": "code",
   "execution_count": null,
   "id": "7d7104c1-832e-4585-b98c-86cbca86e4da",
   "metadata": {},
   "outputs": [],
   "source": [
    "def calculate_intervehicular_time(df):\n",
    "    \"\"\"\n",
    "    Calculate the inter-vehicular time between successive vehicles.\n",
    "\n",
    "    Args:\n",
    "        df (pd.DataFrame): DataFrame containing the vehicle data.\n",
    "\n",
    "    Returns:\n",
    "        pd.DataFrame: New DataFrame with 'two_successive_IDs' and 'inter_vehicular_time' columns.\n",
    "    \"\"\"\n",
    "    # List to store inter-vehicular times\n",
    "    intervehicular_time_data = []\n",
    "\n",
    "    # Extract unique vehicle IDs and their first appearance times\n",
    "    first_appearances = df.drop_duplicates(subset='IDs', keep='first').reset_index(drop=True)\n",
    "\n",
    "    # Calculate inter-vehicular time for each pair of successive vehicles\n",
    "    for i in range(len(first_appearances) - 1):\n",
    "        id1 = first_appearances.iloc[i]['IDs']\n",
    "        id2 = first_appearances.iloc[i + 1]['IDs']\n",
    "        time1 = first_appearances.iloc[i]['time (ms)']\n",
    "        time2 = first_appearances.iloc[i + 1]['time (ms)']\n",
    "        inter_vehicular_time = time2 - time1\n",
    "        intervehicular_time_data.append({'two_successive_IDs': (id1, id2), 'inter_vehicular_time': inter_vehicular_time})\n",
    "\n",
    "    # Create new DataFrame from inter-vehicular time data\n",
    "    intervehicular_time_df = pd.DataFrame(intervehicular_time_data)\n",
    "\n",
    "    return intervehicular_time_df"
   ]
  },
  {
   "cell_type": "code",
   "execution_count": null,
   "id": "36b47c56-b1ae-4d41-a7f4-a5b734317833",
   "metadata": {},
   "outputs": [],
   "source": [
    "intervehicular_time = calculate_intervehicular_time(df)\n",
    "intervehicular_time"
   ]
  },
  {
   "cell_type": "code",
   "execution_count": null,
   "id": "b1aa8c02-806d-4947-962f-5d2dd0a89c1f",
   "metadata": {},
   "outputs": [],
   "source": [
    "intervehicular_time_mean = intervehicular_time[\"inter_vehicular_time\"].mean()\n",
    "speed_km_h_mean = speed_df[\"speed_km_h\"].mean()\n",
    "print(f\"The statistical mean of the inter-vehicular time in this video is: {intervehicular_time_mean} ms\")\n",
    "print(f\"The statistical mean of the speed in this video is: {speed_km_h_mean} km/h\")"
   ]
  },
  {
   "cell_type": "code",
   "execution_count": null,
   "id": "dec8c3c4-dee1-48a6-98be-eab3a63f7daf",
   "metadata": {},
   "outputs": [],
   "source": [
    "speed_df.to_csv(os.path.join(\"runs/count/kech\", 'inter_vehicle_time.csv'), index=False)"
   ]
  }
 ],
 "metadata": {
  "kernelspec": {
   "display_name": "Python 3 (ipykernel)",
   "language": "python",
   "name": "python3"
  },
  "language_info": {
   "codemirror_mode": {
    "name": "ipython",
    "version": 3
   },
   "file_extension": ".py",
   "mimetype": "text/x-python",
   "name": "python",
   "nbconvert_exporter": "python",
   "pygments_lexer": "ipython3",
   "version": "3.8.18"
  }
 },
 "nbformat": 4,
 "nbformat_minor": 5
}
