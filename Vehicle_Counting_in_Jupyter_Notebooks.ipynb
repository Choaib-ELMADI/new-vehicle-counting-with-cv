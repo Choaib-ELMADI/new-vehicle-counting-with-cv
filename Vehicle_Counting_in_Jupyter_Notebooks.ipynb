{
 "cells": [
  {
   "cell_type": "markdown",
   "metadata": {
    "id": "Rw7Cdc_Y79Ll"
   },
   "source": [
    "# **1. Unleash the Power of Vehicle Counting in Jupyter Notebooks!**\n",
    "\n",
    "This Jupyter notebook empowers you to explore a versatile vehicle counting repository. Experiment with various trackers, counting methods, and hyperparameters to build and optimize your system.\n",
    "\n",
    "**By the end of this notebook, you'll be able to:**\n",
    "\n",
    "1. **Effortlessly prototype your vehicle counting system** with straightforward commands and instructions, all within your jupyter environment.\n",
    "2. **Fine-tune your system's performance** by testing different combinations of trackers, counting methods, and hyperparameter configurations of the counting pipeline. Customize your system for your specific video inputs!\n",
    "3. **Evaluate the effectiveness and efficiency** of these systems on your own videos!.\n",
    "\n",
    "Let's dive in and unlock the potential of automated vehicle counting!"
   ]
  },
  {
   "cell_type": "markdown",
   "metadata": {
    "id": "jjv4D-f1DpVv"
   },
   "source": [
    "## **Step 1: Unleash the Vehicle Counting Powerhouse:**\n",
    "Before using this Notebook, please ensure you have:\n",
    "\n",
    "1. Created a virtual environment using `conda` as outlined in Step 1 of the \"1.2. Jupyter Notebooks\" section of the Readme file.\n",
    "2. Cloned the target repository and set the `vehicle_counting_CV` folder within it as your working directory (refer to Step 2 in the same section).\n",
    "3. Installed all necessary dependencies within the activated virtual environment (see Step 3 in the Readme file).\n",
    "4. Configured PyTorch and CUDA for GPU usage if you intend to utilize GPU acceleration for faster processing.\n"
   ]
  },
  {
   "cell_type": "markdown",
   "metadata": {
    "id": "ejiFYbvbEd9w"
   },
   "source": [
    "**Navigate to the Project Hub:**\n",
    "\n",
    "Keep sure your are within the folder `vehicle_counting_CV` as working directory:"
   ]
  },
  {
   "cell_type": "code",
   "execution_count": null,
   "metadata": {
    "colab": {
     "base_uri": "https://localhost:8080/"
    },
    "id": "0N3MYnDt0W1r",
    "outputId": "72a50180-d14c-4b6a-cf23-ac889614eddd"
   },
   "outputs": [],
   "source": [
    "pwd"
   ]
  },
  {
   "cell_type": "markdown",
   "metadata": {
    "id": "rk8GLKuYHe5c"
   },
   "source": [
    "**Checking System Specs: Unveiling the Power Within:**\n",
    "\n",
    "Before we embark on our vehicle counting adventure, let's take a moment to assess the resources at our disposal. This involves confirming the versions of essential libraries and identifying the available hardware, particularly the presence of a GPU (Graphics Processing Unit)."
   ]
  },
  {
   "cell_type": "code",
   "execution_count": null,
   "metadata": {
    "id": "OEui_ORf0v2N"
   },
   "outputs": [],
   "source": [
    "from IPython.display import Image, clear_output  # to display images in Jupyter notebooks\n",
    "clear_output()\n",
    "\n",
    "import numpy as np\n",
    "print(\"NumPy Version:\", np.__version__)\n",
    "\n",
    "import torch\n",
    "print(f\"Cuda availaibility: {torch.cuda.is_available()}\")\n",
    "if torch.cuda.is_available():\n",
    "    print(f\"Setup complete. Using torch {torch.__version__} ({torch.cuda.get_device_properties(0).name if torch.cuda.is_available() else 'CPU'})\")"
   ]
  },
  {
   "cell_type": "markdown",
   "metadata": {
    "id": "dzCd3iNjHytk"
   },
   "source": [
    "## **Step 2: Importing Needed Classes to Run Vehicle Counting Systems Easily**\n",
    "\n",
    "Now that we've confirmed our system's capabilities, let's import the crucial components that will power our vehicle counting operations. This involves bringing in the `run` function and the `args` object from the `counting` module.\n",
    "\n",
    "The `run` function orchestrates the entire counting pipeline, while the `args` object holds various configuration parameters that govern the behavior of the system. These imports are the fundamental building blocks for our upcoming counting tasks.\n",
    "\n",
    "**Here's why this step is important:**\n",
    "\n",
    "*   **Streamlined Execution:** The `run` function encapsulates the entire counting process, making it easy to initiate and control.\n",
    "*   **Flexible Configuration:** The `args` object allows you to fine-tune various parameters to customize the behavior of your vehicle counting system.\n",
    "*   **Modular Design:** By separating these components, the code becomes more organized and maintainable.\n",
    "\n",
    "\n",
    "**Key takeaways:**\n",
    "\n",
    "*   The `run` function is your go-to for executing the counting pipeline.\n",
    "*   The `args` object empowers you to tailor the system to your specific needs.\n",
    "*   These imports lay the groundwork for seamless and flexible vehicle counting."
   ]
  },
  {
   "cell_type": "code",
   "execution_count": null,
   "metadata": {
    "id": "tEDS0g1P0yfL"
   },
   "outputs": [],
   "source": [
    "from counting.run_count import run\n",
    "from counting.count import args"
   ]
  },
  {
   "cell_type": "markdown",
   "metadata": {
    "id": "XBqIOFBXL4fj"
   },
   "source": [
    "**Arguments documentation:**\n",
    "\n",
    "Kindly, carefully read the documentation so that you will be able to understand how to set your configurations!"
   ]
  },
  {
   "cell_type": "code",
   "execution_count": null,
   "metadata": {
    "colab": {
     "base_uri": "https://localhost:8080/"
    },
    "id": "mgmhwe1N1COD",
    "outputId": "c7bacd5d-9491-42b2-aada-e703287d343e"
   },
   "outputs": [],
   "source": [
    "print(args.__doc__)"
   ]
  },
  {
   "cell_type": "markdown",
   "metadata": {
    "id": "CIBeN_-EJeln"
   },
   "source": [
    "## **Step 3: Tailor-Made Counting: Unleashing Customization Power**\n",
    "\n",
    "Now comes the exciting part – tailoring the vehicle counting system to your specific needs! Dive into the `args` documentation and explore the wide array of configuration options. These parameters allow you to fine-tune every aspect of the counting process, from the tracking method to the counting approach.\n",
    "\n",
    "**Here's the game plan:**\n",
    "\n",
    "1.  **Experiment with the Demo:** Get started with the provided demo video (`kech.mp4`). This allows for quick testing and familiarization with the system's capabilities.\n",
    "2.  **Import Your Own Videos:** To analyze your own videos, simply import them into the working directory or create a dedicated folder. Remember to update the `args.source` argument with the correct path.\n",
    "3.  **Unleash the Customization:** Embrace experimentation! Try different counting approaches, trackers, and hyperparameter settings. This will help you discover the optimal configuration for your specific videos and counting requirements.\n",
    "\n",
    "**Think of it as a laboratory for vehicle counting innovation!** You're in control, and the possibilities are endless."
   ]
  },
  {
   "cell_type": "code",
   "execution_count": null,
   "metadata": {
    "id": "SryyqvBT1HDP"
   },
   "outputs": [],
   "source": [
    "import os\n",
    "args.source = \"kech.mp4\"\n",
    "args.name = \"video_results_folder\"\n",
    "args.counting_approach = \"tracking_with_line_vicinity\"         # tracking_with_line_vicinity , tracking_with_line_crossing, tracking_with_line_crossing_vicinity\n",
    "args.tracking_method = \"ocsort\"\n",
    "args.save=True\n",
    "args.verbose=True\n",
    "args.line_vicinity=1.5\n",
    "args.line_point11 = (0.0, 0.25)\n",
    "args.line_point12 = (1.0, 0.75)"
   ]
  },
  {
   "cell_type": "markdown",
   "metadata": {
    "id": "M7rlwB5CMeP2"
   },
   "source": [
    "## **Step 4: Unleash the Counting Power: Executing Your Custom System**\n",
    "\n",
    "With your configurations easily defined, it's time to unleash the counting power! In this step, we'll execute the vehicle counting algorithm using the `run` function and the `args` object that holds your customized settings.\n",
    "\n",
    "**Here's where the magic happens:**"
   ]
  },
  {
   "cell_type": "code",
   "execution_count": null,
   "metadata": {
    "colab": {
     "base_uri": "https://localhost:8080/"
    },
    "id": "MD5GysBv1Jkg",
    "outputId": "e3f7f536-003e-4bdd-a0cb-44ba7a4414d0"
   },
   "outputs": [],
   "source": [
    "# Run the counting algorithm\n",
    "counter_yolo , profilers , _  = run(args)"
   ]
  },
  {
   "cell_type": "markdown",
   "metadata": {
    "id": "GfYWd_J0PUe4"
   },
   "source": [
    "After processing completes, navigate to the *runs/count/video_results_folder* folder in your working directory to get the video illustration of the counting results on your video!"
   ]
  },
  {
   "cell_type": "markdown",
   "metadata": {
    "id": "DCTouaDhOPP8"
   },
   "source": [
    "This single line of code sets the counting process in motion, utilizing your carefully chosen parameters to detect, track, and count vehicles in your video source.\n",
    "\n",
    "**Behind the scenes:**\n",
    "\n",
    "* The `run` function orchestrates the entire pipeline, utilizing the specified counting approach, tracking method, and other settings.\n",
    "* `counter_yolo` stores the all information about the counting process, including the processed video information, the total vehicle count and counts for individual vehicle types... (when you explore the code behind this object you get get all insights about the counting process in this repository).\n",
    "* `profilers` captures performance metrics, providing insights into the time taken by different stages of the counting pipeline.\n",
    "\n",
    "Get ready to witness the culmination of your customization efforts as the system analyzes your video and delivers the counting results!"
   ]
  },
  {
   "cell_type": "markdown",
   "metadata": {
    "id": "VkdKcBJ-OkG_"
   },
   "source": [
    "**Get some information about the precessed video:**"
   ]
  },
  {
   "cell_type": "code",
   "execution_count": null,
   "metadata": {
    "colab": {
     "base_uri": "https://localhost:8080/"
    },
    "id": "5bOWs64W1NKd",
    "outputId": "d1f677a1-5c15-41f7-f4d8-3979ba3996a2"
   },
   "outputs": [],
   "source": [
    "# video attribues:\n",
    "counter_yolo.video_attributes"
   ]
  },
  {
   "cell_type": "markdown",
   "metadata": {
    "id": "Rr0hWbsiPO6I"
   },
   "source": [
    "**Total Vehicle Count by the Customized System for the Processed Video:**"
   ]
  },
  {
   "cell_type": "code",
   "execution_count": null,
   "metadata": {
    "colab": {
     "base_uri": "https://localhost:8080/"
    },
    "id": "4PZNIG4F1TD8",
    "outputId": "0e8e0465-b0e2-48d3-c72d-7edec0f817d6"
   },
   "outputs": [],
   "source": [
    "# Counting Results\n",
    "print(f\"The number of vehicles counted by the algorithm is: {counter_yolo.counter}\")"
   ]
  },
  {
   "cell_type": "markdown",
   "metadata": {
    "id": "SoBwBSf4QEbh"
   },
   "source": [
    "**Vehicle Count by Type for the Processed Video:**"
   ]
  },
  {
   "cell_type": "code",
   "execution_count": null,
   "metadata": {
    "colab": {
     "base_uri": "https://localhost:8080/"
    },
    "id": "wv2n9Lzb1XDR",
    "outputId": "1538c783-e1a9-4a3f-d2be-06577e471a65"
   },
   "outputs": [],
   "source": [
    "def tensor_to_dict(count_per_class):\n",
    "    # Dictionary keys for the selected vehicle types\n",
    "    vehicle_types = [\"bicycle\", \"car\", \"motorcycle\", \"bus\", \"truck\"]\n",
    "\n",
    "    # Indices corresponding to the vehicle types in the tensor\n",
    "    indices = [1, 2, 3, 5, 7]\n",
    "\n",
    "    # Create the dictionary\n",
    "    vehicle_counts = {vehicle: int(count_per_class[idx].item()) for vehicle, idx in zip(vehicle_types, indices)}\n",
    "\n",
    "    return vehicle_counts\n",
    "\n",
    "print(f\"The number of vehicles per type counted by the algorithm is: {tensor_to_dict(counter_yolo.count_per_class)}\")"
   ]
  },
  {
   "cell_type": "markdown",
   "metadata": {
    "id": "dd_v3dMhQgll"
   },
   "source": [
    "**Performance Metrics for Vehicle Counting on the Processed Video:**"
   ]
  },
  {
   "cell_type": "code",
   "execution_count": null,
   "metadata": {
    "colab": {
     "base_uri": "https://localhost:8080/"
    },
    "id": "79bqVtPr1ZO-",
    "outputId": "662e7c74-c24b-4059-eeff-8fe2dab1e057"
   },
   "outputs": [],
   "source": [
    "print(f\"The time required for the PRE-PROCESSING step is: {profilers[0].t} \")\n",
    "print(f\"The time required for the DETECTION (Inference) step is: {profilers[1].t} \")\n",
    "print(f\"The time required for the POS-PROCESSING step is: {profilers[2].t}\")\n",
    "print(f\"The time required for the TRACKING step is: {profilers[3].t}\")\n",
    "print(f\"The time required for the COUNTING step is: {profilers[4].t}\")\n",
    "print(\"-------------------------------------------------------------------------------------------\")\n",
    "overall_time = profilers[0].t + profilers[1].t + profilers[2].t + profilers[3].t + profilers[4].t\n",
    "print(f\"The overall time required for the whole counting pipeline with this system (software algorithms + hardware) is: {overall_time}\")\n",
    "print(\"-------------------------------------------------------------------------------------------\")\n",
    "print(f\"The average time per frame required for the PRE-PROCESSING step is: {profilers[0].dt} \")\n",
    "print(f\"The average time per frame required for the DETECTION (Inference) step is: {profilers[1].dt} \")\n",
    "print(f\"The average time per frame required for the POS-PROCESSING step is: {profilers[2].dt}\")\n",
    "print(f\"The average time per frame required for the TRACKING step is: {profilers[3].dt}\")\n",
    "print(f\"The average time per frame required for the COUNTING step is: {profilers[4].dt}\")"
   ]
  },
  {
   "cell_type": "markdown",
   "metadata": {
    "id": "XhZTYwk_bB4X"
   },
   "source": [
    "# **2.  Your Vehicle Counting Journey Begins Now!**\n",
    "\n",
    "You've explored the depths of this vehicle counting repository, witnessed its capabilities, and perhaps even customized it to your liking. But this is just the beginning!\n",
    "\n",
    "**Now it's your turn to take the reins:**\n",
    "\n",
    "* **Experiment Fearlessly:** Unleash your creativity by trying different counting approaches, trackers, and hyperparameter settings. There's no limit to what you can discover!\n",
    "* **Innovate and Expand:** This repository is a living entity, constantly evolving. Contribute your unique ideas and algorithms to push the boundaries of vehicle counting.\n",
    "* **Collaborate and Share:** Join forces with other passionate individuals, share your findings, and together, shape the future of this project.\n",
    "\n",
    "**Your contributions, big or small, can make a significant impact.** Let's create a thriving community of vehicle counting enthusiasts who are constantly learning, innovating, and pushing the limits of what's possible.\n",
    "\n",
    "**Thank you for embarking on this journey with us!**"
   ]
  }
 ],
 "metadata": {
  "accelerator": "GPU",
  "colab": {
   "gpuType": "T4",
   "provenance": []
  },
  "kernelspec": {
   "display_name": "Python 3 (ipykernel)",
   "language": "python",
   "name": "python3"
  },
  "language_info": {
   "codemirror_mode": {
    "name": "ipython",
    "version": 3
   },
   "file_extension": ".py",
   "mimetype": "text/x-python",
   "name": "python",
   "nbconvert_exporter": "python",
   "pygments_lexer": "ipython3",
   "version": "3.8.18"
  }
 },
 "nbformat": 4,
 "nbformat_minor": 4
}
